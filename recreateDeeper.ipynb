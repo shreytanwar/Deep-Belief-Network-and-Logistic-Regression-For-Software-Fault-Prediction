{
  "nbformat": 4,
  "nbformat_minor": 0,
  "metadata": {
    "colab": {
      "name": "recreateDeeper.ipynb",
      "provenance": [],
      "authorship_tag": "ABX9TyMvJpv1aoQmaITuZHUg/3WE",
      "include_colab_link": true
    },
    "kernelspec": {
      "name": "python3",
      "display_name": "Python 3"
    }
  },
  "cells": [
    {
      "cell_type": "markdown",
      "metadata": {
        "id": "view-in-github",
        "colab_type": "text"
      },
      "source": [
        "<a href=\"https://colab.research.google.com/github/shreytanwar/Deep-Belief-Network-and-Logistic-Regression-For-Software-Fault-Prediction/blob/master/recreateDeeper.ipynb\" target=\"_parent\"><img src=\"https://colab.research.google.com/assets/colab-badge.svg\" alt=\"Open In Colab\"/></a>"
      ]
    },
    {
      "cell_type": "code",
      "metadata": {
        "id": "DfkLXFDxl8sJ",
        "colab_type": "code",
        "colab": {
          "base_uri": "https://localhost:8080/",
          "height": 34
        },
        "outputId": "a10265dd-4671-4464-c644-a6a0ed9c5714"
      },
      "source": [
        "from google.colab import drive\n",
        "drive.mount('/content/drive/')"
      ],
      "execution_count": null,
      "outputs": [
        {
          "output_type": "stream",
          "text": [
            "Drive already mounted at /content/drive/; to attempt to forcibly remount, call drive.mount(\"/content/drive/\", force_remount=True).\n"
          ],
          "name": "stdout"
        }
      ]
    },
    {
      "cell_type": "code",
      "metadata": {
        "id": "sK42BBJgmSGh",
        "colab_type": "code",
        "colab": {}
      },
      "source": [
        "import tensorflow as tf\n",
        "from sklearn.metrics import log_loss, accuracy_score\n",
        "import numpy as np\n",
        "import pandas as pd\n",
        "# from tensorflow.examples.tutorials.mnist import input_data\n",
        "import matplotlib.pyplot as plt\n",
        "import matplotlib as mpl\n",
        "from mpl_toolkits.axes_grid1 import Grid"
      ],
      "execution_count": null,
      "outputs": []
    },
    {
      "cell_type": "code",
      "metadata": {
        "id": "lhdWip5AmSQd",
        "colab_type": "code",
        "colab": {}
      },
      "source": [
        "df= pd.read_csv('/content/drive/My Drive/dataset/bugzilla.csv')"
      ],
      "execution_count": null,
      "outputs": []
    },
    {
      "cell_type": "code",
      "metadata": {
        "id": "bVSQXhUkmSvC",
        "colab_type": "code",
        "colab": {}
      },
      "source": [
        "def normalize(x):\n",
        "  x = x.astype(float)\n",
        "  min = np.min(x)\n",
        "  max = np.max(x)\n",
        "  return (x - min)/(max-min)"
      ],
      "execution_count": null,
      "outputs": []
    },
    {
      "cell_type": "code",
      "metadata": {
        "id": "6Se7DitSs9xa",
        "colab_type": "code",
        "colab": {}
      },
      "source": [
        "def view_values(X, y, example):\n",
        "    label = y.loc[example]\n",
        "    image = X.loc[example,:].values.reshape([-1,1])\n",
        "    print(image)"
      ],
      "execution_count": null,
      "outputs": []
    },
    {
      "cell_type": "code",
      "metadata": {
        "id": "nwQh30ySJCSA",
        "colab_type": "code",
        "colab": {
          "base_uri": "https://localhost:8080/",
          "height": 34
        },
        "outputId": "edcdaaf0-8cd9-434c-85fd-bf6b98df7bc4"
      },
      "source": [
        "print(\"Shape of dataframe: \", df.shape)   #train"
      ],
      "execution_count": null,
      "outputs": [
        {
          "output_type": "stream",
          "text": [
            "Shape of dataframe:  (4620, 17)\n"
          ],
          "name": "stdout"
        }
      ]
    },
    {
      "cell_type": "code",
      "metadata": {
        "id": "944gS403nFTq",
        "colab_type": "code",
        "colab": {
          "base_uri": "https://localhost:8080/",
          "height": 304
        },
        "outputId": "55bc4e64-c009-4a34-94cd-0d050a4a7dee"
      },
      "source": [
        "df.describe()"
      ],
      "execution_count": null,
      "outputs": [
        {
          "output_type": "execute_result",
          "data": {
            "text/html": [
              "<div>\n",
              "<style scoped>\n",
              "    .dataframe tbody tr th:only-of-type {\n",
              "        vertical-align: middle;\n",
              "    }\n",
              "\n",
              "    .dataframe tbody tr th {\n",
              "        vertical-align: top;\n",
              "    }\n",
              "\n",
              "    .dataframe thead th {\n",
              "        text-align: right;\n",
              "    }\n",
              "</style>\n",
              "<table border=\"1\" class=\"dataframe\">\n",
              "  <thead>\n",
              "    <tr style=\"text-align: right;\">\n",
              "      <th></th>\n",
              "      <th>transactionid</th>\n",
              "      <th>ns</th>\n",
              "      <th>nm</th>\n",
              "      <th>nf</th>\n",
              "      <th>entropy</th>\n",
              "      <th>la</th>\n",
              "      <th>ld</th>\n",
              "      <th>lt</th>\n",
              "      <th>fix</th>\n",
              "      <th>ndev</th>\n",
              "      <th>pd</th>\n",
              "      <th>npt</th>\n",
              "      <th>exp</th>\n",
              "      <th>rexp</th>\n",
              "      <th>sexp</th>\n",
              "      <th>bug</th>\n",
              "    </tr>\n",
              "  </thead>\n",
              "  <tbody>\n",
              "    <tr>\n",
              "      <th>count</th>\n",
              "      <td>4620.000000</td>\n",
              "      <td>4620.000000</td>\n",
              "      <td>4620.000000</td>\n",
              "      <td>4620.000000</td>\n",
              "      <td>4620.000000</td>\n",
              "      <td>4620.000000</td>\n",
              "      <td>4620.000000</td>\n",
              "      <td>4620.000000</td>\n",
              "      <td>4620.000000</td>\n",
              "      <td>4620.000000</td>\n",
              "      <td>4620.000000</td>\n",
              "      <td>4620.000000</td>\n",
              "      <td>4620.000000</td>\n",
              "      <td>4620.000000</td>\n",
              "      <td>4620.000000</td>\n",
              "      <td>4620.000000</td>\n",
              "    </tr>\n",
              "    <tr>\n",
              "      <th>mean</th>\n",
              "      <td>5819.241558</td>\n",
              "      <td>1.169913</td>\n",
              "      <td>1.220346</td>\n",
              "      <td>2.287662</td>\n",
              "      <td>0.229153</td>\n",
              "      <td>0.071410</td>\n",
              "      <td>3.113758</td>\n",
              "      <td>591.379777</td>\n",
              "      <td>0.859957</td>\n",
              "      <td>16.424892</td>\n",
              "      <td>173.927922</td>\n",
              "      <td>0.952656</td>\n",
              "      <td>342.570563</td>\n",
              "      <td>253.033361</td>\n",
              "      <td>230.821429</td>\n",
              "      <td>0.367100</td>\n",
              "    </tr>\n",
              "    <tr>\n",
              "      <th>std</th>\n",
              "      <td>4223.181222</td>\n",
              "      <td>0.424315</td>\n",
              "      <td>0.569805</td>\n",
              "      <td>4.275243</td>\n",
              "      <td>0.371861</td>\n",
              "      <td>0.491756</td>\n",
              "      <td>198.624600</td>\n",
              "      <td>547.895977</td>\n",
              "      <td>0.347070</td>\n",
              "      <td>10.743430</td>\n",
              "      <td>646.256119</td>\n",
              "      <td>0.137676</td>\n",
              "      <td>392.273355</td>\n",
              "      <td>268.292945</td>\n",
              "      <td>269.729476</td>\n",
              "      <td>0.482066</td>\n",
              "    </tr>\n",
              "    <tr>\n",
              "      <th>min</th>\n",
              "      <td>3.000000</td>\n",
              "      <td>1.000000</td>\n",
              "      <td>1.000000</td>\n",
              "      <td>1.000000</td>\n",
              "      <td>0.000000</td>\n",
              "      <td>0.000000</td>\n",
              "      <td>0.000000</td>\n",
              "      <td>0.000000</td>\n",
              "      <td>0.000000</td>\n",
              "      <td>1.000000</td>\n",
              "      <td>0.000000</td>\n",
              "      <td>0.037037</td>\n",
              "      <td>1.000000</td>\n",
              "      <td>1.000000</td>\n",
              "      <td>1.000000</td>\n",
              "      <td>0.000000</td>\n",
              "    </tr>\n",
              "    <tr>\n",
              "      <th>25%</th>\n",
              "      <td>2211.750000</td>\n",
              "      <td>1.000000</td>\n",
              "      <td>1.000000</td>\n",
              "      <td>1.000000</td>\n",
              "      <td>0.000000</td>\n",
              "      <td>0.003093</td>\n",
              "      <td>0.001295</td>\n",
              "      <td>210.000000</td>\n",
              "      <td>1.000000</td>\n",
              "      <td>7.000000</td>\n",
              "      <td>3.000000</td>\n",
              "      <td>1.000000</td>\n",
              "      <td>58.000000</td>\n",
              "      <td>52.000000</td>\n",
              "      <td>35.000000</td>\n",
              "      <td>0.000000</td>\n",
              "    </tr>\n",
              "    <tr>\n",
              "      <th>50%</th>\n",
              "      <td>5193.500000</td>\n",
              "      <td>1.000000</td>\n",
              "      <td>1.000000</td>\n",
              "      <td>1.000000</td>\n",
              "      <td>0.000000</td>\n",
              "      <td>0.009909</td>\n",
              "      <td>0.005109</td>\n",
              "      <td>455.000000</td>\n",
              "      <td>1.000000</td>\n",
              "      <td>16.000000</td>\n",
              "      <td>20.000000</td>\n",
              "      <td>1.000000</td>\n",
              "      <td>196.000000</td>\n",
              "      <td>156.000000</td>\n",
              "      <td>129.500000</td>\n",
              "      <td>0.000000</td>\n",
              "    </tr>\n",
              "    <tr>\n",
              "      <th>75%</th>\n",
              "      <td>8804.250000</td>\n",
              "      <td>1.000000</td>\n",
              "      <td>1.000000</td>\n",
              "      <td>2.000000</td>\n",
              "      <td>0.551098</td>\n",
              "      <td>0.035356</td>\n",
              "      <td>0.017502</td>\n",
              "      <td>799.250000</td>\n",
              "      <td>1.000000</td>\n",
              "      <td>24.000000</td>\n",
              "      <td>119.000000</td>\n",
              "      <td>1.000000</td>\n",
              "      <td>489.000000</td>\n",
              "      <td>352.000000</td>\n",
              "      <td>341.250000</td>\n",
              "      <td>1.000000</td>\n",
              "    </tr>\n",
              "    <tr>\n",
              "      <th>max</th>\n",
              "      <td>20938.000000</td>\n",
              "      <td>4.000000</td>\n",
              "      <td>8.000000</td>\n",
              "      <td>63.000000</td>\n",
              "      <td>1.000000</td>\n",
              "      <td>21.000000</td>\n",
              "      <td>13495.000000</td>\n",
              "      <td>2751.000000</td>\n",
              "      <td>1.000000</td>\n",
              "      <td>47.000000</td>\n",
              "      <td>15836.000000</td>\n",
              "      <td>1.000000</td>\n",
              "      <td>1815.000000</td>\n",
              "      <td>1042.750000</td>\n",
              "      <td>1741.000000</td>\n",
              "      <td>1.000000</td>\n",
              "    </tr>\n",
              "  </tbody>\n",
              "</table>\n",
              "</div>"
            ],
            "text/plain": [
              "       transactionid           ns  ...         sexp          bug\n",
              "count    4620.000000  4620.000000  ...  4620.000000  4620.000000\n",
              "mean     5819.241558     1.169913  ...   230.821429     0.367100\n",
              "std      4223.181222     0.424315  ...   269.729476     0.482066\n",
              "min         3.000000     1.000000  ...     1.000000     0.000000\n",
              "25%      2211.750000     1.000000  ...    35.000000     0.000000\n",
              "50%      5193.500000     1.000000  ...   129.500000     0.000000\n",
              "75%      8804.250000     1.000000  ...   341.250000     1.000000\n",
              "max     20938.000000     4.000000  ...  1741.000000     1.000000\n",
              "\n",
              "[8 rows x 16 columns]"
            ]
          },
          "metadata": {
            "tags": []
          },
          "execution_count": 7
        }
      ]
    },
    {
      "cell_type": "code",
      "metadata": {
        "id": "_1p5DpIHnP1j",
        "colab_type": "code",
        "colab": {
          "base_uri": "https://localhost:8080/",
          "height": 195
        },
        "outputId": "1802690c-7907-4ad0-c038-5a2623380393"
      },
      "source": [
        "df.head()"
      ],
      "execution_count": null,
      "outputs": [
        {
          "output_type": "execute_result",
          "data": {
            "text/html": [
              "<div>\n",
              "<style scoped>\n",
              "    .dataframe tbody tr th:only-of-type {\n",
              "        vertical-align: middle;\n",
              "    }\n",
              "\n",
              "    .dataframe tbody tr th {\n",
              "        vertical-align: top;\n",
              "    }\n",
              "\n",
              "    .dataframe thead th {\n",
              "        text-align: right;\n",
              "    }\n",
              "</style>\n",
              "<table border=\"1\" class=\"dataframe\">\n",
              "  <thead>\n",
              "    <tr style=\"text-align: right;\">\n",
              "      <th></th>\n",
              "      <th>transactionid</th>\n",
              "      <th>commitdate</th>\n",
              "      <th>ns</th>\n",
              "      <th>nm</th>\n",
              "      <th>nf</th>\n",
              "      <th>entropy</th>\n",
              "      <th>la</th>\n",
              "      <th>ld</th>\n",
              "      <th>lt</th>\n",
              "      <th>fix</th>\n",
              "      <th>ndev</th>\n",
              "      <th>pd</th>\n",
              "      <th>npt</th>\n",
              "      <th>exp</th>\n",
              "      <th>rexp</th>\n",
              "      <th>sexp</th>\n",
              "      <th>bug</th>\n",
              "    </tr>\n",
              "  </thead>\n",
              "  <tbody>\n",
              "    <tr>\n",
              "      <th>0</th>\n",
              "      <td>3</td>\n",
              "      <td>2001/12/12 17:41</td>\n",
              "      <td>1</td>\n",
              "      <td>1</td>\n",
              "      <td>3</td>\n",
              "      <td>0.579380</td>\n",
              "      <td>0.093620</td>\n",
              "      <td>0.000000</td>\n",
              "      <td>480.666667</td>\n",
              "      <td>1</td>\n",
              "      <td>14</td>\n",
              "      <td>596</td>\n",
              "      <td>0.666667</td>\n",
              "      <td>143</td>\n",
              "      <td>133.50</td>\n",
              "      <td>129</td>\n",
              "      <td>1</td>\n",
              "    </tr>\n",
              "    <tr>\n",
              "      <th>1</th>\n",
              "      <td>7</td>\n",
              "      <td>1999/10/12 12:57</td>\n",
              "      <td>1</td>\n",
              "      <td>1</td>\n",
              "      <td>1</td>\n",
              "      <td>0.000000</td>\n",
              "      <td>0.000000</td>\n",
              "      <td>0.000000</td>\n",
              "      <td>398.000000</td>\n",
              "      <td>1</td>\n",
              "      <td>1</td>\n",
              "      <td>0</td>\n",
              "      <td>1.000000</td>\n",
              "      <td>140</td>\n",
              "      <td>140.00</td>\n",
              "      <td>137</td>\n",
              "      <td>1</td>\n",
              "    </tr>\n",
              "    <tr>\n",
              "      <th>2</th>\n",
              "      <td>8</td>\n",
              "      <td>2002/5/15 16:55</td>\n",
              "      <td>3</td>\n",
              "      <td>3</td>\n",
              "      <td>52</td>\n",
              "      <td>0.739279</td>\n",
              "      <td>0.183477</td>\n",
              "      <td>0.208913</td>\n",
              "      <td>283.519231</td>\n",
              "      <td>0</td>\n",
              "      <td>23</td>\n",
              "      <td>15836</td>\n",
              "      <td>0.750000</td>\n",
              "      <td>984</td>\n",
              "      <td>818.65</td>\n",
              "      <td>978</td>\n",
              "      <td>0</td>\n",
              "    </tr>\n",
              "    <tr>\n",
              "      <th>3</th>\n",
              "      <td>9</td>\n",
              "      <td>2002/1/21 15:37</td>\n",
              "      <td>1</td>\n",
              "      <td>1</td>\n",
              "      <td>8</td>\n",
              "      <td>0.685328</td>\n",
              "      <td>0.016039</td>\n",
              "      <td>0.012880</td>\n",
              "      <td>514.375000</td>\n",
              "      <td>1</td>\n",
              "      <td>21</td>\n",
              "      <td>1281</td>\n",
              "      <td>1.000000</td>\n",
              "      <td>579</td>\n",
              "      <td>479.25</td>\n",
              "      <td>550</td>\n",
              "      <td>0</td>\n",
              "    </tr>\n",
              "    <tr>\n",
              "      <th>4</th>\n",
              "      <td>10</td>\n",
              "      <td>2001/12/19 16:44</td>\n",
              "      <td>2</td>\n",
              "      <td>2</td>\n",
              "      <td>38</td>\n",
              "      <td>0.769776</td>\n",
              "      <td>0.091829</td>\n",
              "      <td>0.072746</td>\n",
              "      <td>366.815789</td>\n",
              "      <td>1</td>\n",
              "      <td>21</td>\n",
              "      <td>6565</td>\n",
              "      <td>0.763158</td>\n",
              "      <td>413</td>\n",
              "      <td>313.25</td>\n",
              "      <td>405</td>\n",
              "      <td>0</td>\n",
              "    </tr>\n",
              "  </tbody>\n",
              "</table>\n",
              "</div>"
            ],
            "text/plain": [
              "   transactionid        commitdate  ns  nm  ...  exp    rexp  sexp  bug\n",
              "0              3  2001/12/12 17:41   1   1  ...  143  133.50   129    1\n",
              "1              7  1999/10/12 12:57   1   1  ...  140  140.00   137    1\n",
              "2              8   2002/5/15 16:55   3   3  ...  984  818.65   978    0\n",
              "3              9   2002/1/21 15:37   1   1  ...  579  479.25   550    0\n",
              "4             10  2001/12/19 16:44   2   2  ...  413  313.25   405    0\n",
              "\n",
              "[5 rows x 17 columns]"
            ]
          },
          "metadata": {
            "tags": []
          },
          "execution_count": 8
        }
      ]
    },
    {
      "cell_type": "code",
      "metadata": {
        "id": "bNlmKpGBo7Kp",
        "colab_type": "code",
        "colab": {}
      },
      "source": [
        "#more visual way to see the values int the column\n",
        "\n",
        "def view_digit(X, y, example):\n",
        "    label = y.loc[example]\n",
        "    image = X.loc[example,:].values.reshape([14,1])\n",
        "    plt.title('Example: %d  Label: %d' % (example, label))\n",
        "    plt.imshow(image, cmap=plt.get_cmap('gray'))\n",
        "    plt.show()"
      ],
      "execution_count": null,
      "outputs": []
    },
    {
      "cell_type": "markdown",
      "metadata": {
        "id": "f57wE2r_oTW8",
        "colab_type": "text"
      },
      "source": [
        "### RBM\n"
      ]
    },
    {
      "cell_type": "code",
      "metadata": {
        "id": "pS-1UJMM6WUH",
        "colab_type": "code",
        "colab": {}
      },
      "source": [
        "# Define RBM class\n",
        "class RBM(object):\n",
        "    \n",
        "    def __init__(self, input_size, output_size, \n",
        "                 learning_rate, epochs, batchsize):\n",
        "        # Define hyperparameters\n",
        "        self._input_size = input_size\n",
        "        self._output_size = output_size\n",
        "        self.learning_rate = learning_rate\n",
        "        self.epochs = epochs\n",
        "        self.batchsize = batchsize\n",
        "        \n",
        "        # Initialize weights and biases using zero matrices\n",
        "        self.w = np.zeros([input_size, output_size], dtype=np.float32)\n",
        "        self.hb = np.zeros([output_size], dtype=np.float32)\n",
        "        self.vb = np.zeros([input_size], dtype=np.float32)\n",
        "    # forward pass, where h is the hidden layer and v is the visible layer\n",
        "    def prob_h_given_v(self, visible, w, hb):\n",
        "        return tf.nn.sigmoid(tf.matmul(visible, w) + hb)\n",
        "    # backward pass\n",
        "    def prob_v_given_h(self, hidden, w, vb):\n",
        "        return tf.nn.sigmoid(tf.matmul(hidden, tf.transpose(w)) + vb)\n",
        "    # sampling function\n",
        "    def sample_prob(self, probs):\n",
        "        return tf.nn.relu(tf.sign(probs - tf.random_uniform(tf.shape(probs))))\n",
        "\n",
        "    def train(self, X):\n",
        "        _w = tf.placeholder(tf.float32, [self._input_size, self._output_size])\n",
        "        _hb = tf.placeholder(tf.float32, [self._output_size])\n",
        "        _vb = tf.placeholder(tf.float32, [self._input_size])\n",
        "        \n",
        "        prv_w = np.zeros([self._input_size, self._output_size], dtype=np.float32)\n",
        "        prv_hb = np.zeros([self._output_size], dtype=np.float32)\n",
        "        prv_vb = np.zeros([self._input_size], dtype=np.float32)\n",
        "        \n",
        "        cur_w = np.zeros([self._input_size, self._output_size], dtype=np.float32)\n",
        "        cur_hb = np.zeros([self._output_size], dtype=np.float32)\n",
        "        cur_vb = np.zeros([self._input_size], dtype=np.float32)\n",
        "        \n",
        "        v0 = tf.placeholder(tf.float32, [None, self._input_size])\n",
        "        h0 = self.sample_prob(self.prob_h_given_v(v0, _w, _hb))\n",
        "        v1 = self.sample_prob(self.prob_v_given_h(h0, _w, _vb))\n",
        "        h1 = self.prob_h_given_v(v1, _w, _hb)\n",
        "        #To update the weights, we perform constrastive divergence.\n",
        "        positive_grad = tf.matmul(tf.transpose(v0), h0)\n",
        "        negative_grad = tf.matmul(tf.transpose(v1), h1)\n",
        "        \n",
        "        update_w = _w + self.learning_rate * (positive_grad - negative_grad) / tf.to_float(tf.shape(v0)[0])\n",
        "        update_vb = _vb +  self.learning_rate * tf.reduce_mean(v0 - v1, 0)\n",
        "        update_hb = _hb +  self.learning_rate * tf.reduce_mean(h0 - h1, 0)\n",
        "        # We also define the error as the MSE\n",
        "        err = tf.reduce_mean(tf.square(v0 - v1))\n",
        "        \n",
        "        error_list = []\n",
        "        '''Once we call sess.run, we can feed in batches of data to begin the training. \n",
        "           During the training, forward and backward passes will be made, and the RBM \n",
        "           will update weights based on how the generated data compares to the original input. \n",
        "           We will print the reconstruction error from each epoch'''\n",
        "        with tf.Session() as sess:\n",
        "            sess.run(tf.global_variables_initializer())\n",
        "            \n",
        "            for epoch in range(self.epochs):\n",
        "                for start, end in zip(range(0, len(X),  self.batchsize),range(self.batchsize,len(X), self.batchsize)):\n",
        "                    batch = X[start:end]\n",
        "                    cur_w = sess.run(update_w, feed_dict={v0: batch, _w: prv_w, _hb: prv_hb, _vb: prv_vb})\n",
        "                    cur_hb = sess.run(update_hb, feed_dict={v0: batch,  _w: prv_w, _hb: prv_hb, _vb: prv_vb})\n",
        "                    cur_vb = sess.run(update_vb, feed_dict={v0: batch, _w: prv_w, _hb: prv_hb, _vb: prv_vb})\n",
        "                    prv_w = cur_w\n",
        "                    prv_hb = cur_hb\n",
        "                    prv_vb = cur_vb\n",
        "                error = sess.run(err, feed_dict={v0: X, _w: cur_w, _vb: cur_vb, _hb: cur_hb})\n",
        "                print ('Epoch: %d' % epoch,'reconstruction error: %f' % error)\n",
        "                error_list.append(error)\n",
        "            self.w = prv_w\n",
        "            self.hb = prv_hb\n",
        "            self.vb = prv_vb\n",
        "            return error_list\n",
        "    #function to generate new images from the generative model that the RBM has learned\n",
        "    def rbm_output(self, X):\n",
        "        \n",
        "        input_X = tf.constant(X)\n",
        "        _w = tf.constant(self.w)\n",
        "        _hb = tf.constant(self.hb)\n",
        "        _vb = tf.constant(self.vb)\n",
        "        out = tf.nn.sigmoid(tf.matmul(input_X, _w) + _hb)\n",
        "        hiddenGen = self.sample_prob(self.prob_h_given_v(input_X, _w, _hb))\n",
        "        visibleGen = self.sample_prob(self.prob_v_given_h(hiddenGen, _w, _vb))\n",
        "        with tf.Session() as sess:\n",
        "            sess.run(tf.global_variables_initializer())\n",
        "            return sess.run(out), sess.run(visibleGen), sess.run(hiddenGen)\n",
        "    # function to show the feature detectors of the hidden layer    \n",
        "    def show_features(self, shape, suptitle, count=-1):\n",
        "        maxw = np.amax(self.w.T)\n",
        "        minw = np.amin(self.w.T)\n",
        "        count = self._output_size if count == -1 or count > self._output_size else count\n",
        "        ncols = count if count < 14 else 14 \n",
        "        nrows = count//ncols\n",
        "        nrows = nrows if nrows > 2 else 3\n",
        "        fig = plt.figure(figsize=(ncols, nrows), dpi=100)\n",
        "        grid = Grid(fig, rect=111, nrows_ncols=(nrows, ncols), axes_pad=0.01)\n",
        "\n",
        "        for i, ax in enumerate(grid):\n",
        "            x = self.w.T[i] if i<self._input_size else np.zeros(shape)\n",
        "            x = (x.reshape(1, -1) - minw)/maxw\n",
        "            ax.imshow(x.reshape(*shape), cmap=mpl.cm.Greys)\n",
        "            ax.set_axis_off()\n",
        "\n",
        "        fig.text(0.5,1, suptitle, fontsize=20, horizontalalignment='center')\n",
        "        fig.tight_layout()\n",
        "        plt.show()\n",
        "        return"
      ],
      "execution_count": null,
      "outputs": []
    },
    {
      "cell_type": "markdown",
      "metadata": {
        "id": "dqbKPY0vzPu-",
        "colab_type": "text"
      },
      "source": [
        "## Training"
      ]
    },
    {
      "cell_type": "code",
      "metadata": {
        "id": "WZUhvytCHesW",
        "colab_type": "code",
        "colab": {}
      },
      "source": [
        "#Droping unnecessary String columns\n",
        "df=df.drop(['commitdate','transactionid'], axis=1)\n"
      ],
      "execution_count": null,
      "outputs": []
    },
    {
      "cell_type": "code",
      "metadata": {
        "id": "2cHDy9eqQJta",
        "colab_type": "code",
        "colab": {}
      },
      "source": [
        "#split df\n",
        "train_X = df.iloc[:,:-1].apply(func=normalize, axis=0)\n",
        "train_Y = df.iloc[:,-1]"
      ],
      "execution_count": null,
      "outputs": []
    },
    {
      "cell_type": "code",
      "metadata": {
        "id": "8E4REdnSKBjJ",
        "colab_type": "code",
        "colab": {
          "base_uri": "https://localhost:8080/",
          "height": 168
        },
        "outputId": "811bec04-2a58-4a46-d436-71e339d58063"
      },
      "source": [
        "# df=df.drop(['transactionid'], axis=1)\n",
        "print(df.head())\n",
        "df.shape"
      ],
      "execution_count": null,
      "outputs": [
        {
          "output_type": "stream",
          "text": [
            "   ns  nm  nf   entropy        la  ...       npt  exp    rexp  sexp  bug\n",
            "0   1   1   3  0.579380  0.093620  ...  0.666667  143  133.50   129    1\n",
            "1   1   1   1  0.000000  0.000000  ...  1.000000  140  140.00   137    1\n",
            "2   3   3  52  0.739279  0.183477  ...  0.750000  984  818.65   978    0\n",
            "3   1   1   8  0.685328  0.016039  ...  1.000000  579  479.25   550    0\n",
            "4   2   2  38  0.769776  0.091829  ...  0.763158  413  313.25   405    0\n",
            "\n",
            "[5 rows x 15 columns]\n"
          ],
          "name": "stdout"
        },
        {
          "output_type": "execute_result",
          "data": {
            "text/plain": [
              "(4620, 15)"
            ]
          },
          "metadata": {
            "tags": []
          },
          "execution_count": 13
        }
      ]
    },
    {
      "cell_type": "code",
      "metadata": {
        "id": "V0YjK0QsnQKb",
        "colab_type": "code",
        "colab": {
          "base_uri": "https://localhost:8080/",
          "height": 34
        },
        "outputId": "8d07b4f4-f192-4f04-f0f4-a58d580df67a"
      },
      "source": [
        "inputX = df.iloc[:,:-1].apply(func=normalize, axis=0).values\n",
        "inputY= df.iloc[:,-1].values\n",
        "print(type(inputX))\n",
        "inputX = inputX.astype(np.float32)\n",
        "\n",
        "#List to hold RBMs\n",
        "rbm_list = []\n",
        "\n",
        "#define parameters of RBMs we will train\n",
        "# 14-20-12-12-2\n",
        "\n",
        "# def __init__(self, input_size, output_size,learning_rate, epochs, batchsize):\n",
        "rbm_list.append(RBM(14, 20, 0.002, 200, 100))\n",
        "rbm_list.append(RBM(20, 12, 0.002, 200, 100))\n",
        "rbm_list.append(RBM(12, 12, 0.002, 200, 100))"
      ],
      "execution_count": null,
      "outputs": [
        {
          "output_type": "stream",
          "text": [
            "<class 'numpy.ndarray'>\n"
          ],
          "name": "stdout"
        }
      ]
    },
    {
      "cell_type": "code",
      "metadata": {
        "id": "-RFRdpvK4zBD",
        "colab_type": "code",
        "colab": {
          "base_uri": "https://localhost:8080/",
          "height": 87
        },
        "outputId": "5b45a736-9ec3-4c9e-97b7-ac9cd373beee"
      },
      "source": [
        "import tensorflow.compat.v1 as tf\n",
        "tf.disable_v2_behavior() "
      ],
      "execution_count": null,
      "outputs": [
        {
          "output_type": "stream",
          "text": [
            "WARNING:tensorflow:From /usr/local/lib/python3.6/dist-packages/tensorflow/python/compat/v2_compat.py:96: disable_resource_variables (from tensorflow.python.ops.variable_scope) is deprecated and will be removed in a future version.\n",
            "Instructions for updating:\n",
            "non-resource variables are not supported in the long term\n"
          ],
          "name": "stdout"
        }
      ]
    },
    {
      "cell_type": "code",
      "metadata": {
        "id": "tCjl-ZFknQV0",
        "colab_type": "code",
        "colab": {
          "base_uri": "https://localhost:8080/",
          "height": 1000
        },
        "outputId": "d07650fd-b3ec-424a-b898-4f4309e9ddfd"
      },
      "source": [
        "outputList = []\n",
        "error_list = []\n",
        "\n",
        "#For each RBM in out list\n",
        "for i in range(0, len(rbm_list)):\n",
        "    print('RBM', i+1)\n",
        "    #Train new RBM\n",
        "    rbm = rbm_list[i]\n",
        "    err = rbm.train(inputX)\n",
        "    error_list.append(err)\n",
        "\n",
        "    #Return output layer\n",
        "    #sess.run(out), sess.run(visibleGen), sess.run(hiddenGen)\n",
        "    outputX, reconstructedX, hiddenX = rbm.rbm_output(inputX)\n",
        "    outputList.append(outputX)\n",
        "    inputX= hiddenX"
      ],
      "execution_count": null,
      "outputs": [
        {
          "output_type": "stream",
          "text": [
            "RBM 1\n",
            "WARNING:tensorflow:From <ipython-input-10-46d311a21990>:48: to_float (from tensorflow.python.ops.math_ops) is deprecated and will be removed in a future version.\n",
            "Instructions for updating:\n",
            "Use `tf.cast` instead.\n",
            "Epoch: 0 reconstruction error: 0.405610\n",
            "Epoch: 1 reconstruction error: 0.372414\n",
            "Epoch: 2 reconstruction error: 0.340579\n",
            "Epoch: 3 reconstruction error: 0.313986\n",
            "Epoch: 4 reconstruction error: 0.296913\n",
            "Epoch: 5 reconstruction error: 0.277447\n",
            "Epoch: 6 reconstruction error: 0.260589\n",
            "Epoch: 7 reconstruction error: 0.251172\n",
            "Epoch: 8 reconstruction error: 0.236274\n",
            "Epoch: 9 reconstruction error: 0.226843\n",
            "Epoch: 10 reconstruction error: 0.220158\n",
            "Epoch: 11 reconstruction error: 0.211969\n",
            "Epoch: 12 reconstruction error: 0.207240\n",
            "Epoch: 13 reconstruction error: 0.198529\n",
            "Epoch: 14 reconstruction error: 0.192598\n",
            "Epoch: 15 reconstruction error: 0.187786\n",
            "Epoch: 16 reconstruction error: 0.183598\n",
            "Epoch: 17 reconstruction error: 0.179589\n",
            "Epoch: 18 reconstruction error: 0.177002\n",
            "Epoch: 19 reconstruction error: 0.172843\n",
            "Epoch: 20 reconstruction error: 0.172136\n",
            "Epoch: 21 reconstruction error: 0.168514\n",
            "Epoch: 22 reconstruction error: 0.165323\n",
            "Epoch: 23 reconstruction error: 0.165216\n",
            "Epoch: 24 reconstruction error: 0.164237\n",
            "Epoch: 25 reconstruction error: 0.161936\n",
            "Epoch: 26 reconstruction error: 0.160250\n",
            "Epoch: 27 reconstruction error: 0.158505\n",
            "Epoch: 28 reconstruction error: 0.154797\n",
            "Epoch: 29 reconstruction error: 0.153051\n",
            "Epoch: 30 reconstruction error: 0.152911\n",
            "Epoch: 31 reconstruction error: 0.152746\n",
            "Epoch: 32 reconstruction error: 0.152436\n",
            "Epoch: 33 reconstruction error: 0.149466\n",
            "Epoch: 34 reconstruction error: 0.150211\n",
            "Epoch: 35 reconstruction error: 0.147945\n",
            "Epoch: 36 reconstruction error: 0.149705\n",
            "Epoch: 37 reconstruction error: 0.148748\n",
            "Epoch: 38 reconstruction error: 0.146998\n",
            "Epoch: 39 reconstruction error: 0.146170\n",
            "Epoch: 40 reconstruction error: 0.146554\n",
            "Epoch: 41 reconstruction error: 0.143909\n",
            "Epoch: 42 reconstruction error: 0.144239\n",
            "Epoch: 43 reconstruction error: 0.145098\n",
            "Epoch: 44 reconstruction error: 0.143967\n",
            "Epoch: 45 reconstruction error: 0.143149\n",
            "Epoch: 46 reconstruction error: 0.144604\n",
            "Epoch: 47 reconstruction error: 0.142914\n",
            "Epoch: 48 reconstruction error: 0.142042\n",
            "Epoch: 49 reconstruction error: 0.140488\n",
            "Epoch: 50 reconstruction error: 0.142369\n",
            "Epoch: 51 reconstruction error: 0.141221\n",
            "Epoch: 52 reconstruction error: 0.140655\n",
            "Epoch: 53 reconstruction error: 0.141135\n",
            "Epoch: 54 reconstruction error: 0.139521\n",
            "Epoch: 55 reconstruction error: 0.140074\n",
            "Epoch: 56 reconstruction error: 0.138742\n",
            "Epoch: 57 reconstruction error: 0.138959\n",
            "Epoch: 58 reconstruction error: 0.138948\n",
            "Epoch: 59 reconstruction error: 0.139429\n",
            "Epoch: 60 reconstruction error: 0.138563\n",
            "Epoch: 61 reconstruction error: 0.136927\n",
            "Epoch: 62 reconstruction error: 0.136512\n",
            "Epoch: 63 reconstruction error: 0.138199\n",
            "Epoch: 64 reconstruction error: 0.135839\n",
            "Epoch: 65 reconstruction error: 0.136647\n",
            "Epoch: 66 reconstruction error: 0.140385\n",
            "Epoch: 67 reconstruction error: 0.137080\n",
            "Epoch: 68 reconstruction error: 0.135506\n",
            "Epoch: 69 reconstruction error: 0.137010\n",
            "Epoch: 70 reconstruction error: 0.136086\n",
            "Epoch: 71 reconstruction error: 0.136728\n",
            "Epoch: 72 reconstruction error: 0.136635\n",
            "Epoch: 73 reconstruction error: 0.134955\n",
            "Epoch: 74 reconstruction error: 0.137883\n",
            "Epoch: 75 reconstruction error: 0.137998\n",
            "Epoch: 76 reconstruction error: 0.136821\n",
            "Epoch: 77 reconstruction error: 0.135289\n",
            "Epoch: 78 reconstruction error: 0.136866\n",
            "Epoch: 79 reconstruction error: 0.134807\n",
            "Epoch: 80 reconstruction error: 0.137574\n",
            "Epoch: 81 reconstruction error: 0.134760\n",
            "Epoch: 82 reconstruction error: 0.136401\n",
            "Epoch: 83 reconstruction error: 0.135275\n",
            "Epoch: 84 reconstruction error: 0.134858\n",
            "Epoch: 85 reconstruction error: 0.134807\n",
            "Epoch: 86 reconstruction error: 0.135772\n",
            "Epoch: 87 reconstruction error: 0.135093\n",
            "Epoch: 88 reconstruction error: 0.135234\n",
            "Epoch: 89 reconstruction error: 0.134168\n",
            "Epoch: 90 reconstruction error: 0.133406\n",
            "Epoch: 91 reconstruction error: 0.135597\n",
            "Epoch: 92 reconstruction error: 0.135761\n",
            "Epoch: 93 reconstruction error: 0.134630\n",
            "Epoch: 94 reconstruction error: 0.135042\n",
            "Epoch: 95 reconstruction error: 0.134471\n",
            "Epoch: 96 reconstruction error: 0.134525\n",
            "Epoch: 97 reconstruction error: 0.135882\n",
            "Epoch: 98 reconstruction error: 0.134125\n",
            "Epoch: 99 reconstruction error: 0.132881\n",
            "Epoch: 100 reconstruction error: 0.134554\n",
            "Epoch: 101 reconstruction error: 0.134515\n",
            "Epoch: 102 reconstruction error: 0.132751\n",
            "Epoch: 103 reconstruction error: 0.135491\n",
            "Epoch: 104 reconstruction error: 0.134690\n",
            "Epoch: 105 reconstruction error: 0.134533\n",
            "Epoch: 106 reconstruction error: 0.135115\n",
            "Epoch: 107 reconstruction error: 0.133686\n",
            "Epoch: 108 reconstruction error: 0.132739\n",
            "Epoch: 109 reconstruction error: 0.133909\n",
            "Epoch: 110 reconstruction error: 0.135715\n",
            "Epoch: 111 reconstruction error: 0.133807\n",
            "Epoch: 112 reconstruction error: 0.132638\n",
            "Epoch: 113 reconstruction error: 0.134724\n",
            "Epoch: 114 reconstruction error: 0.133625\n",
            "Epoch: 115 reconstruction error: 0.132998\n",
            "Epoch: 116 reconstruction error: 0.131368\n",
            "Epoch: 117 reconstruction error: 0.133063\n",
            "Epoch: 118 reconstruction error: 0.135031\n",
            "Epoch: 119 reconstruction error: 0.132106\n",
            "Epoch: 120 reconstruction error: 0.135188\n",
            "Epoch: 121 reconstruction error: 0.133161\n",
            "Epoch: 122 reconstruction error: 0.133819\n",
            "Epoch: 123 reconstruction error: 0.133799\n",
            "Epoch: 124 reconstruction error: 0.132906\n",
            "Epoch: 125 reconstruction error: 0.134100\n",
            "Epoch: 126 reconstruction error: 0.132386\n",
            "Epoch: 127 reconstruction error: 0.131321\n",
            "Epoch: 128 reconstruction error: 0.135577\n",
            "Epoch: 129 reconstruction error: 0.133994\n",
            "Epoch: 130 reconstruction error: 0.134476\n",
            "Epoch: 131 reconstruction error: 0.131972\n",
            "Epoch: 132 reconstruction error: 0.132689\n",
            "Epoch: 133 reconstruction error: 0.133490\n",
            "Epoch: 134 reconstruction error: 0.133513\n",
            "Epoch: 135 reconstruction error: 0.132471\n",
            "Epoch: 136 reconstruction error: 0.133935\n",
            "Epoch: 137 reconstruction error: 0.132002\n",
            "Epoch: 138 reconstruction error: 0.131169\n",
            "Epoch: 139 reconstruction error: 0.134027\n",
            "Epoch: 140 reconstruction error: 0.132838\n",
            "Epoch: 141 reconstruction error: 0.133638\n",
            "Epoch: 142 reconstruction error: 0.132946\n",
            "Epoch: 143 reconstruction error: 0.132147\n",
            "Epoch: 144 reconstruction error: 0.132314\n",
            "Epoch: 145 reconstruction error: 0.132876\n",
            "Epoch: 146 reconstruction error: 0.132157\n",
            "Epoch: 147 reconstruction error: 0.132165\n",
            "Epoch: 148 reconstruction error: 0.132398\n",
            "Epoch: 149 reconstruction error: 0.130698\n",
            "Epoch: 150 reconstruction error: 0.132839\n",
            "Epoch: 151 reconstruction error: 0.133068\n",
            "Epoch: 152 reconstruction error: 0.133077\n",
            "Epoch: 153 reconstruction error: 0.131773\n",
            "Epoch: 154 reconstruction error: 0.131790\n",
            "Epoch: 155 reconstruction error: 0.131245\n",
            "Epoch: 156 reconstruction error: 0.132626\n",
            "Epoch: 157 reconstruction error: 0.132339\n",
            "Epoch: 158 reconstruction error: 0.132048\n",
            "Epoch: 159 reconstruction error: 0.132029\n",
            "Epoch: 160 reconstruction error: 0.131373\n",
            "Epoch: 161 reconstruction error: 0.131073\n",
            "Epoch: 162 reconstruction error: 0.130730\n",
            "Epoch: 163 reconstruction error: 0.132355\n",
            "Epoch: 164 reconstruction error: 0.132513\n",
            "Epoch: 165 reconstruction error: 0.131237\n",
            "Epoch: 166 reconstruction error: 0.129810\n",
            "Epoch: 167 reconstruction error: 0.132403\n",
            "Epoch: 168 reconstruction error: 0.132947\n",
            "Epoch: 169 reconstruction error: 0.131710\n",
            "Epoch: 170 reconstruction error: 0.133908\n",
            "Epoch: 171 reconstruction error: 0.133150\n",
            "Epoch: 172 reconstruction error: 0.132743\n",
            "Epoch: 173 reconstruction error: 0.133100\n",
            "Epoch: 174 reconstruction error: 0.133875\n",
            "Epoch: 175 reconstruction error: 0.132447\n",
            "Epoch: 176 reconstruction error: 0.131591\n",
            "Epoch: 177 reconstruction error: 0.132171\n",
            "Epoch: 178 reconstruction error: 0.130352\n",
            "Epoch: 179 reconstruction error: 0.131343\n",
            "Epoch: 180 reconstruction error: 0.133161\n",
            "Epoch: 181 reconstruction error: 0.131368\n",
            "Epoch: 182 reconstruction error: 0.131435\n",
            "Epoch: 183 reconstruction error: 0.131435\n",
            "Epoch: 184 reconstruction error: 0.132931\n",
            "Epoch: 185 reconstruction error: 0.131429\n",
            "Epoch: 186 reconstruction error: 0.133016\n",
            "Epoch: 187 reconstruction error: 0.131548\n",
            "Epoch: 188 reconstruction error: 0.131121\n",
            "Epoch: 189 reconstruction error: 0.131241\n",
            "Epoch: 190 reconstruction error: 0.132033\n",
            "Epoch: 191 reconstruction error: 0.133231\n",
            "Epoch: 192 reconstruction error: 0.130971\n",
            "Epoch: 193 reconstruction error: 0.131378\n",
            "Epoch: 194 reconstruction error: 0.132932\n",
            "Epoch: 195 reconstruction error: 0.130892\n",
            "Epoch: 196 reconstruction error: 0.130723\n",
            "Epoch: 197 reconstruction error: 0.133515\n",
            "Epoch: 198 reconstruction error: 0.132068\n",
            "Epoch: 199 reconstruction error: 0.132334\n",
            "RBM 2\n",
            "Epoch: 0 reconstruction error: 0.499361\n",
            "Epoch: 1 reconstruction error: 0.497543\n",
            "Epoch: 2 reconstruction error: 0.494762\n",
            "Epoch: 3 reconstruction error: 0.492738\n",
            "Epoch: 4 reconstruction error: 0.489318\n",
            "Epoch: 5 reconstruction error: 0.490877\n",
            "Epoch: 6 reconstruction error: 0.486775\n",
            "Epoch: 7 reconstruction error: 0.486894\n",
            "Epoch: 8 reconstruction error: 0.488355\n",
            "Epoch: 9 reconstruction error: 0.487338\n",
            "Epoch: 10 reconstruction error: 0.487186\n",
            "Epoch: 11 reconstruction error: 0.485758\n",
            "Epoch: 12 reconstruction error: 0.487424\n",
            "Epoch: 13 reconstruction error: 0.486320\n",
            "Epoch: 14 reconstruction error: 0.481180\n",
            "Epoch: 15 reconstruction error: 0.485368\n",
            "Epoch: 16 reconstruction error: 0.484448\n",
            "Epoch: 17 reconstruction error: 0.485184\n",
            "Epoch: 18 reconstruction error: 0.482478\n",
            "Epoch: 19 reconstruction error: 0.482576\n",
            "Epoch: 20 reconstruction error: 0.483030\n",
            "Epoch: 21 reconstruction error: 0.482273\n",
            "Epoch: 22 reconstruction error: 0.481093\n",
            "Epoch: 23 reconstruction error: 0.482413\n",
            "Epoch: 24 reconstruction error: 0.480952\n",
            "Epoch: 25 reconstruction error: 0.483626\n",
            "Epoch: 26 reconstruction error: 0.484924\n",
            "Epoch: 27 reconstruction error: 0.480758\n",
            "Epoch: 28 reconstruction error: 0.482197\n",
            "Epoch: 29 reconstruction error: 0.482868\n",
            "Epoch: 30 reconstruction error: 0.480336\n",
            "Epoch: 31 reconstruction error: 0.478615\n",
            "Epoch: 32 reconstruction error: 0.481970\n",
            "Epoch: 33 reconstruction error: 0.480584\n",
            "Epoch: 34 reconstruction error: 0.480152\n",
            "Epoch: 35 reconstruction error: 0.484762\n",
            "Epoch: 36 reconstruction error: 0.484405\n",
            "Epoch: 37 reconstruction error: 0.479156\n",
            "Epoch: 38 reconstruction error: 0.479729\n",
            "Epoch: 39 reconstruction error: 0.481461\n",
            "Epoch: 40 reconstruction error: 0.479491\n",
            "Epoch: 41 reconstruction error: 0.483452\n",
            "Epoch: 42 reconstruction error: 0.480693\n",
            "Epoch: 43 reconstruction error: 0.480974\n",
            "Epoch: 44 reconstruction error: 0.480671\n",
            "Epoch: 45 reconstruction error: 0.481894\n",
            "Epoch: 46 reconstruction error: 0.480660\n",
            "Epoch: 47 reconstruction error: 0.482879\n",
            "Epoch: 48 reconstruction error: 0.481093\n",
            "Epoch: 49 reconstruction error: 0.485271\n",
            "Epoch: 50 reconstruction error: 0.481613\n",
            "Epoch: 51 reconstruction error: 0.482413\n",
            "Epoch: 52 reconstruction error: 0.480671\n",
            "Epoch: 53 reconstruction error: 0.480249\n",
            "Epoch: 54 reconstruction error: 0.479686\n",
            "Epoch: 55 reconstruction error: 0.480184\n",
            "Epoch: 56 reconstruction error: 0.478160\n",
            "Epoch: 57 reconstruction error: 0.478647\n",
            "Epoch: 58 reconstruction error: 0.479491\n",
            "Epoch: 59 reconstruction error: 0.483074\n",
            "Epoch: 60 reconstruction error: 0.479610\n",
            "Epoch: 61 reconstruction error: 0.482511\n",
            "Epoch: 62 reconstruction error: 0.482132\n",
            "Epoch: 63 reconstruction error: 0.480790\n",
            "Epoch: 64 reconstruction error: 0.481504\n",
            "Epoch: 65 reconstruction error: 0.481158\n",
            "Epoch: 66 reconstruction error: 0.477836\n",
            "Epoch: 67 reconstruction error: 0.478409\n",
            "Epoch: 68 reconstruction error: 0.482370\n",
            "Epoch: 69 reconstruction error: 0.481688\n",
            "Epoch: 70 reconstruction error: 0.479405\n",
            "Epoch: 71 reconstruction error: 0.480617\n",
            "Epoch: 72 reconstruction error: 0.481385\n",
            "Epoch: 73 reconstruction error: 0.480065\n",
            "Epoch: 74 reconstruction error: 0.481786\n",
            "Epoch: 75 reconstruction error: 0.481374\n",
            "Epoch: 76 reconstruction error: 0.478701\n",
            "Epoch: 77 reconstruction error: 0.480390\n",
            "Epoch: 78 reconstruction error: 0.484307\n",
            "Epoch: 79 reconstruction error: 0.482576\n",
            "Epoch: 80 reconstruction error: 0.482716\n",
            "Epoch: 81 reconstruction error: 0.483669\n",
            "Epoch: 82 reconstruction error: 0.484264\n",
            "Epoch: 83 reconstruction error: 0.481050\n",
            "Epoch: 84 reconstruction error: 0.481288\n",
            "Epoch: 85 reconstruction error: 0.481396\n",
            "Epoch: 86 reconstruction error: 0.480011\n",
            "Epoch: 87 reconstruction error: 0.479729\n",
            "Epoch: 88 reconstruction error: 0.485768\n",
            "Epoch: 89 reconstruction error: 0.482413\n",
            "Epoch: 90 reconstruction error: 0.483474\n",
            "Epoch: 91 reconstruction error: 0.482056\n",
            "Epoch: 92 reconstruction error: 0.482532\n",
            "Epoch: 93 reconstruction error: 0.480877\n",
            "Epoch: 94 reconstruction error: 0.482035\n",
            "Epoch: 95 reconstruction error: 0.478258\n",
            "Epoch: 96 reconstruction error: 0.482619\n",
            "Epoch: 97 reconstruction error: 0.482013\n",
            "Epoch: 98 reconstruction error: 0.483095\n",
            "Epoch: 99 reconstruction error: 0.480877\n",
            "Epoch: 100 reconstruction error: 0.482933\n",
            "Epoch: 101 reconstruction error: 0.482673\n",
            "Epoch: 102 reconstruction error: 0.480314\n",
            "Epoch: 103 reconstruction error: 0.482857\n",
            "Epoch: 104 reconstruction error: 0.479827\n",
            "Epoch: 105 reconstruction error: 0.479903\n",
            "Epoch: 106 reconstruction error: 0.478528\n",
            "Epoch: 107 reconstruction error: 0.484502\n",
            "Epoch: 108 reconstruction error: 0.479275\n",
            "Epoch: 109 reconstruction error: 0.478994\n",
            "Epoch: 110 reconstruction error: 0.481732\n",
            "Epoch: 111 reconstruction error: 0.479600\n",
            "Epoch: 112 reconstruction error: 0.481418\n",
            "Epoch: 113 reconstruction error: 0.481894\n",
            "Epoch: 114 reconstruction error: 0.480584\n",
            "Epoch: 115 reconstruction error: 0.481255\n",
            "Epoch: 116 reconstruction error: 0.484102\n",
            "Epoch: 117 reconstruction error: 0.482035\n",
            "Epoch: 118 reconstruction error: 0.482695\n",
            "Epoch: 119 reconstruction error: 0.480227\n",
            "Epoch: 120 reconstruction error: 0.479426\n",
            "Epoch: 121 reconstruction error: 0.481829\n",
            "Epoch: 122 reconstruction error: 0.479978\n",
            "Epoch: 123 reconstruction error: 0.482489\n",
            "Epoch: 124 reconstruction error: 0.480422\n",
            "Epoch: 125 reconstruction error: 0.480390\n",
            "Epoch: 126 reconstruction error: 0.480379\n",
            "Epoch: 127 reconstruction error: 0.482413\n",
            "Epoch: 128 reconstruction error: 0.485032\n",
            "Epoch: 129 reconstruction error: 0.481342\n",
            "Epoch: 130 reconstruction error: 0.479491\n",
            "Epoch: 131 reconstruction error: 0.480942\n",
            "Epoch: 132 reconstruction error: 0.482186\n",
            "Epoch: 133 reconstruction error: 0.479600\n",
            "Epoch: 134 reconstruction error: 0.481374\n",
            "Epoch: 135 reconstruction error: 0.479957\n",
            "Epoch: 136 reconstruction error: 0.480487\n",
            "Epoch: 137 reconstruction error: 0.479470\n",
            "Epoch: 138 reconstruction error: 0.481136\n",
            "Epoch: 139 reconstruction error: 0.478885\n",
            "Epoch: 140 reconstruction error: 0.479286\n",
            "Epoch: 141 reconstruction error: 0.482143\n",
            "Epoch: 142 reconstruction error: 0.480509\n",
            "Epoch: 143 reconstruction error: 0.481461\n",
            "Epoch: 144 reconstruction error: 0.481364\n",
            "Epoch: 145 reconstruction error: 0.482641\n",
            "Epoch: 146 reconstruction error: 0.483268\n",
            "Epoch: 147 reconstruction error: 0.482089\n",
            "Epoch: 148 reconstruction error: 0.479686\n",
            "Epoch: 149 reconstruction error: 0.481299\n",
            "Epoch: 150 reconstruction error: 0.482955\n",
            "Epoch: 151 reconstruction error: 0.482944\n",
            "Epoch: 152 reconstruction error: 0.480336\n",
            "Epoch: 153 reconstruction error: 0.479481\n",
            "Epoch: 154 reconstruction error: 0.483950\n",
            "Epoch: 155 reconstruction error: 0.482100\n",
            "Epoch: 156 reconstruction error: 0.479145\n",
            "Epoch: 157 reconstruction error: 0.482565\n",
            "Epoch: 158 reconstruction error: 0.479946\n",
            "Epoch: 159 reconstruction error: 0.480249\n",
            "Epoch: 160 reconstruction error: 0.480238\n",
            "Epoch: 161 reconstruction error: 0.481948\n",
            "Epoch: 162 reconstruction error: 0.481472\n",
            "Epoch: 163 reconstruction error: 0.483442\n",
            "Epoch: 164 reconstruction error: 0.483496\n",
            "Epoch: 165 reconstruction error: 0.479578\n",
            "Epoch: 166 reconstruction error: 0.481374\n",
            "Epoch: 167 reconstruction error: 0.481461\n",
            "Epoch: 168 reconstruction error: 0.480909\n",
            "Epoch: 169 reconstruction error: 0.481829\n",
            "Epoch: 170 reconstruction error: 0.483030\n",
            "Epoch: 171 reconstruction error: 0.482435\n",
            "Epoch: 172 reconstruction error: 0.480487\n",
            "Epoch: 173 reconstruction error: 0.482576\n",
            "Epoch: 174 reconstruction error: 0.481981\n",
            "Epoch: 175 reconstruction error: 0.481894\n",
            "Epoch: 176 reconstruction error: 0.480292\n",
            "Epoch: 177 reconstruction error: 0.480292\n",
            "Epoch: 178 reconstruction error: 0.483755\n",
            "Epoch: 179 reconstruction error: 0.481645\n",
            "Epoch: 180 reconstruction error: 0.482662\n",
            "Epoch: 181 reconstruction error: 0.478939\n",
            "Epoch: 182 reconstruction error: 0.479578\n",
            "Epoch: 183 reconstruction error: 0.479697\n",
            "Epoch: 184 reconstruction error: 0.482262\n",
            "Epoch: 185 reconstruction error: 0.481645\n",
            "Epoch: 186 reconstruction error: 0.481753\n",
            "Epoch: 187 reconstruction error: 0.480152\n",
            "Epoch: 188 reconstruction error: 0.481039\n",
            "Epoch: 189 reconstruction error: 0.478333\n",
            "Epoch: 190 reconstruction error: 0.481602\n",
            "Epoch: 191 reconstruction error: 0.481840\n",
            "Epoch: 192 reconstruction error: 0.482229\n",
            "Epoch: 193 reconstruction error: 0.478636\n",
            "Epoch: 194 reconstruction error: 0.478842\n",
            "Epoch: 195 reconstruction error: 0.480433\n",
            "Epoch: 196 reconstruction error: 0.482803\n",
            "Epoch: 197 reconstruction error: 0.479102\n",
            "Epoch: 198 reconstruction error: 0.481320\n",
            "Epoch: 199 reconstruction error: 0.478019\n",
            "RBM 3\n",
            "Epoch: 0 reconstruction error: 0.495725\n",
            "Epoch: 1 reconstruction error: 0.496843\n",
            "Epoch: 2 reconstruction error: 0.491432\n",
            "Epoch: 3 reconstruction error: 0.491270\n",
            "Epoch: 4 reconstruction error: 0.484560\n",
            "Epoch: 5 reconstruction error: 0.484975\n",
            "Epoch: 6 reconstruction error: 0.478373\n",
            "Epoch: 7 reconstruction error: 0.480339\n",
            "Epoch: 8 reconstruction error: 0.476533\n",
            "Epoch: 9 reconstruction error: 0.480970\n",
            "Epoch: 10 reconstruction error: 0.477976\n",
            "Epoch: 11 reconstruction error: 0.476154\n",
            "Epoch: 12 reconstruction error: 0.475523\n",
            "Epoch: 13 reconstruction error: 0.475776\n",
            "Epoch: 14 reconstruction error: 0.473106\n",
            "Epoch: 15 reconstruction error: 0.473611\n",
            "Epoch: 16 reconstruction error: 0.469192\n",
            "Epoch: 17 reconstruction error: 0.473936\n",
            "Epoch: 18 reconstruction error: 0.471230\n",
            "Epoch: 19 reconstruction error: 0.470400\n",
            "Epoch: 20 reconstruction error: 0.471086\n",
            "Epoch: 21 reconstruction error: 0.466757\n",
            "Epoch: 22 reconstruction error: 0.470833\n",
            "Epoch: 23 reconstruction error: 0.470274\n",
            "Epoch: 24 reconstruction error: 0.466126\n",
            "Epoch: 25 reconstruction error: 0.470364\n",
            "Epoch: 26 reconstruction error: 0.469192\n",
            "Epoch: 27 reconstruction error: 0.469913\n",
            "Epoch: 28 reconstruction error: 0.470833\n",
            "Epoch: 29 reconstruction error: 0.465963\n",
            "Epoch: 30 reconstruction error: 0.466811\n",
            "Epoch: 31 reconstruction error: 0.469066\n",
            "Epoch: 32 reconstruction error: 0.470076\n",
            "Epoch: 33 reconstruction error: 0.468615\n",
            "Epoch: 34 reconstruction error: 0.464033\n",
            "Epoch: 35 reconstruction error: 0.467280\n",
            "Epoch: 36 reconstruction error: 0.470274\n",
            "Epoch: 37 reconstruction error: 0.466775\n",
            "Epoch: 38 reconstruction error: 0.465999\n",
            "Epoch: 39 reconstruction error: 0.468561\n",
            "Epoch: 40 reconstruction error: 0.465133\n",
            "Epoch: 41 reconstruction error: 0.466883\n",
            "Epoch: 42 reconstruction error: 0.467785\n",
            "Epoch: 43 reconstruction error: 0.463221\n",
            "Epoch: 44 reconstruction error: 0.465855\n",
            "Epoch: 45 reconstruction error: 0.468723\n",
            "Epoch: 46 reconstruction error: 0.467875\n",
            "Epoch: 47 reconstruction error: 0.470887\n",
            "Epoch: 48 reconstruction error: 0.464556\n",
            "Epoch: 49 reconstruction error: 0.469012\n",
            "Epoch: 50 reconstruction error: 0.465999\n",
            "Epoch: 51 reconstruction error: 0.470779\n",
            "Epoch: 52 reconstruction error: 0.469192\n",
            "Epoch: 53 reconstruction error: 0.465512\n",
            "Epoch: 54 reconstruction error: 0.469012\n",
            "Epoch: 55 reconstruction error: 0.470418\n",
            "Epoch: 56 reconstruction error: 0.470815\n",
            "Epoch: 57 reconstruction error: 0.466991\n",
            "Epoch: 58 reconstruction error: 0.467045\n",
            "Epoch: 59 reconstruction error: 0.466703\n",
            "Epoch: 60 reconstruction error: 0.466486\n",
            "Epoch: 61 reconstruction error: 0.467388\n",
            "Epoch: 62 reconstruction error: 0.470635\n",
            "Epoch: 63 reconstruction error: 0.470905\n",
            "Epoch: 64 reconstruction error: 0.470437\n",
            "Epoch: 65 reconstruction error: 0.466468\n",
            "Epoch: 66 reconstruction error: 0.464683\n",
            "Epoch: 67 reconstruction error: 0.469517\n",
            "Epoch: 68 reconstruction error: 0.468164\n",
            "Epoch: 69 reconstruction error: 0.465693\n",
            "Epoch: 70 reconstruction error: 0.463799\n",
            "Epoch: 71 reconstruction error: 0.470761\n",
            "Epoch: 72 reconstruction error: 0.470905\n",
            "Epoch: 73 reconstruction error: 0.472186\n",
            "Epoch: 74 reconstruction error: 0.469030\n",
            "Epoch: 75 reconstruction error: 0.466432\n",
            "Epoch: 76 reconstruction error: 0.471789\n",
            "Epoch: 77 reconstruction error: 0.469931\n",
            "Epoch: 78 reconstruction error: 0.467298\n",
            "Epoch: 79 reconstruction error: 0.469372\n",
            "Epoch: 80 reconstruction error: 0.470256\n",
            "Epoch: 81 reconstruction error: 0.466649\n",
            "Epoch: 82 reconstruction error: 0.469769\n",
            "Epoch: 83 reconstruction error: 0.469084\n",
            "Epoch: 84 reconstruction error: 0.470022\n",
            "Epoch: 85 reconstruction error: 0.468795\n",
            "Epoch: 86 reconstruction error: 0.466504\n",
            "Epoch: 87 reconstruction error: 0.470364\n",
            "Epoch: 88 reconstruction error: 0.466270\n",
            "Epoch: 89 reconstruction error: 0.471807\n",
            "Epoch: 90 reconstruction error: 0.471356\n",
            "Epoch: 91 reconstruction error: 0.471753\n",
            "Epoch: 92 reconstruction error: 0.468831\n",
            "Epoch: 93 reconstruction error: 0.467208\n",
            "Epoch: 94 reconstruction error: 0.469336\n",
            "Epoch: 95 reconstruction error: 0.469444\n",
            "Epoch: 96 reconstruction error: 0.466576\n",
            "Epoch: 97 reconstruction error: 0.468308\n",
            "Epoch: 98 reconstruction error: 0.469679\n",
            "Epoch: 99 reconstruction error: 0.470292\n",
            "Epoch: 100 reconstruction error: 0.467659\n",
            "Epoch: 101 reconstruction error: 0.472240\n",
            "Epoch: 102 reconstruction error: 0.472006\n",
            "Epoch: 103 reconstruction error: 0.466558\n",
            "Epoch: 104 reconstruction error: 0.469300\n",
            "Epoch: 105 reconstruction error: 0.469895\n",
            "Epoch: 106 reconstruction error: 0.468597\n",
            "Epoch: 107 reconstruction error: 0.469643\n",
            "Epoch: 108 reconstruction error: 0.469084\n",
            "Epoch: 109 reconstruction error: 0.464376\n",
            "Epoch: 110 reconstruction error: 0.465873\n",
            "Epoch: 111 reconstruction error: 0.467623\n",
            "Epoch: 112 reconstruction error: 0.470130\n",
            "Epoch: 113 reconstruction error: 0.470058\n",
            "Epoch: 114 reconstruction error: 0.469012\n",
            "Epoch: 115 reconstruction error: 0.466703\n",
            "Epoch: 116 reconstruction error: 0.470220\n",
            "Epoch: 117 reconstruction error: 0.466865\n",
            "Epoch: 118 reconstruction error: 0.469462\n",
            "Epoch: 119 reconstruction error: 0.466775\n",
            "Epoch: 120 reconstruction error: 0.468380\n",
            "Epoch: 121 reconstruction error: 0.467875\n",
            "Epoch: 122 reconstruction error: 0.466613\n",
            "Epoch: 123 reconstruction error: 0.469066\n",
            "Epoch: 124 reconstruction error: 0.465729\n",
            "Epoch: 125 reconstruction error: 0.466829\n",
            "Epoch: 126 reconstruction error: 0.469192\n",
            "Epoch: 127 reconstruction error: 0.468200\n",
            "Epoch: 128 reconstruction error: 0.465206\n",
            "Epoch: 129 reconstruction error: 0.465206\n",
            "Epoch: 130 reconstruction error: 0.468290\n",
            "Epoch: 131 reconstruction error: 0.466522\n",
            "Epoch: 132 reconstruction error: 0.467587\n",
            "Epoch: 133 reconstruction error: 0.468957\n",
            "Epoch: 134 reconstruction error: 0.466162\n",
            "Epoch: 135 reconstruction error: 0.466071\n",
            "Epoch: 136 reconstruction error: 0.471681\n",
            "Epoch: 137 reconstruction error: 0.469805\n",
            "Epoch: 138 reconstruction error: 0.469535\n",
            "Epoch: 139 reconstruction error: 0.463979\n",
            "Epoch: 140 reconstruction error: 0.465584\n",
            "Epoch: 141 reconstruction error: 0.464953\n",
            "Epoch: 142 reconstruction error: 0.469408\n",
            "Epoch: 143 reconstruction error: 0.469120\n",
            "Epoch: 144 reconstruction error: 0.466811\n",
            "Epoch: 145 reconstruction error: 0.464466\n",
            "Epoch: 146 reconstruction error: 0.470743\n",
            "Epoch: 147 reconstruction error: 0.468903\n",
            "Epoch: 148 reconstruction error: 0.468777\n",
            "Epoch: 149 reconstruction error: 0.474405\n",
            "Epoch: 150 reconstruction error: 0.470130\n",
            "Epoch: 151 reconstruction error: 0.467983\n",
            "Epoch: 152 reconstruction error: 0.467839\n",
            "Epoch: 153 reconstruction error: 0.473611\n",
            "Epoch: 154 reconstruction error: 0.467713\n",
            "Epoch: 155 reconstruction error: 0.467983\n",
            "Epoch: 156 reconstruction error: 0.466937\n",
            "Epoch: 157 reconstruction error: 0.472962\n",
            "Epoch: 158 reconstruction error: 0.471465\n",
            "Epoch: 159 reconstruction error: 0.466937\n",
            "Epoch: 160 reconstruction error: 0.469066\n",
            "Epoch: 161 reconstruction error: 0.470292\n",
            "Epoch: 162 reconstruction error: 0.466811\n",
            "Epoch: 163 reconstruction error: 0.466631\n",
            "Epoch: 164 reconstruction error: 0.471411\n",
            "Epoch: 165 reconstruction error: 0.468290\n",
            "Epoch: 166 reconstruction error: 0.471843\n",
            "Epoch: 167 reconstruction error: 0.465260\n",
            "Epoch: 168 reconstruction error: 0.467587\n",
            "Epoch: 169 reconstruction error: 0.469931\n",
            "Epoch: 170 reconstruction error: 0.468525\n",
            "Epoch: 171 reconstruction error: 0.468525\n",
            "Epoch: 172 reconstruction error: 0.468543\n",
            "Epoch: 173 reconstruction error: 0.471916\n",
            "Epoch: 174 reconstruction error: 0.468236\n",
            "Epoch: 175 reconstruction error: 0.469120\n",
            "Epoch: 176 reconstruction error: 0.470310\n",
            "Epoch: 177 reconstruction error: 0.466324\n",
            "Epoch: 178 reconstruction error: 0.466126\n",
            "Epoch: 179 reconstruction error: 0.466468\n",
            "Epoch: 180 reconstruction error: 0.465404\n",
            "Epoch: 181 reconstruction error: 0.464953\n",
            "Epoch: 182 reconstruction error: 0.464015\n",
            "Epoch: 183 reconstruction error: 0.471843\n",
            "Epoch: 184 reconstruction error: 0.468633\n",
            "Epoch: 185 reconstruction error: 0.470112\n",
            "Epoch: 186 reconstruction error: 0.465242\n",
            "Epoch: 187 reconstruction error: 0.466180\n",
            "Epoch: 188 reconstruction error: 0.469264\n",
            "Epoch: 189 reconstruction error: 0.463149\n",
            "Epoch: 190 reconstruction error: 0.470346\n",
            "Epoch: 191 reconstruction error: 0.468957\n",
            "Epoch: 192 reconstruction error: 0.464827\n",
            "Epoch: 193 reconstruction error: 0.467677\n",
            "Epoch: 194 reconstruction error: 0.467947\n",
            "Epoch: 195 reconstruction error: 0.466721\n",
            "Epoch: 196 reconstruction error: 0.471086\n",
            "Epoch: 197 reconstruction error: 0.469174\n",
            "Epoch: 198 reconstruction error: 0.467316\n",
            "Epoch: 199 reconstruction error: 0.469913\n"
          ],
          "name": "stdout"
        }
      ]
    },
    {
      "cell_type": "code",
      "metadata": {
        "id": "8_JW0RV4nQYG",
        "colab_type": "code",
        "colab": {
          "base_uri": "https://localhost:8080/",
          "height": 854
        },
        "outputId": "fe8dad3f-aec5-4c53-8ff7-f9b661691300"
      },
      "source": [
        "i = 1\n",
        "for err in error_list:\n",
        "    print(\"RBM\",i)\n",
        "    pd.Series(err).plot(logy=False)\n",
        "    plt.xlabel(\"Epoch\")\n",
        "    plt.ylabel(\"Reconstruction Error\")\n",
        "    plt.show()\n",
        "    i += 1"
      ],
      "execution_count": null,
      "outputs": [
        {
          "output_type": "stream",
          "text": [
            "RBM 1\n"
          ],
          "name": "stdout"
        },
        {
          "output_type": "display_data",
          "data": {
            "image/png": "[encoded data removed]",
            "text/plain": [
              "<Figure size 432x288 with 1 Axes>"
            ]
          },
          "metadata": {
            "tags": [],
            "needs_background": "light"
          }
        },
        {
          "output_type": "stream",
          "text": [
            "RBM 2\n"
          ],
          "name": "stdout"
        },
        {
          "output_type": "display_data",
          "data": {
            "image/png": "[encoded data removed]",
            "text/plain": [
              "<Figure size 432x288 with 1 Axes>"
            ]
          },
          "metadata": {
            "tags": [],
            "needs_background": "light"
          }
        },
        {
          "output_type": "stream",
          "text": [
            "RBM 3\n"
          ],
          "name": "stdout"
        },
        {
          "output_type": "display_data",
          "data": {
            "image/png": "[encoded data removed]",
            "text/plain": [
              "<Figure size 432x288 with 1 Axes>"
            ]
          },
          "metadata": {
            "tags": [],
            "needs_background": "light"
          }
        }
      ]
    },
    {
      "cell_type": "code",
      "metadata": {
        "id": "XpVaXs_YP263",
        "colab_type": "code",
        "colab": {}
      },
      "source": [
        "inputX = np.array(train_X)\n",
        "inputX = inputX.astype(np.float32)\n",
        "rbmOne = rbm_list[0]"
      ],
      "execution_count": null,
      "outputs": []
    },
    {
      "cell_type": "code",
      "metadata": {
        "id": "rW0OQisMnQOG",
        "colab_type": "code",
        "colab": {
          "base_uri": "https://localhost:8080/",
          "height": 538
        },
        "outputId": "3bcdd61a-3fe0-4baf-8a7b-1d7de6de4322"
      },
      "source": [
        "\n",
        "print('RBM 1')\n",
        "outputX_rbmOne, reconstructedX_rbmOne, hiddenX_rbmOne = rbmOne.rbm_output(inputX)\n",
        "reconstructedX_rbmOne = pd.DataFrame(data=reconstructedX_rbmOne, index=train_X.index)\n",
        "for j in range(0,1):\n",
        "    example = j\n",
        "    print(\"Data generated by First RBM Layer\")\n",
        "    view_values(reconstructedX_rbmOne, train_Y, example)\n",
        "    print(\"Original Data\")\n",
        "    view_values(train_X, train_Y, example)"
      ],
      "execution_count": null,
      "outputs": [
        {
          "output_type": "stream",
          "text": [
            "RBM 1\n",
            "Data generated by First RBM Layer\n",
            "[[0.]\n",
            " [0.]\n",
            " [0.]\n",
            " [0.]\n",
            " [0.]\n",
            " [0.]\n",
            " [0.]\n",
            " [1.]\n",
            " [0.]\n",
            " [0.]\n",
            " [1.]\n",
            " [1.]\n",
            " [0.]\n",
            " [0.]]\n",
            "Original Data\n",
            "[[0.        ]\n",
            " [0.        ]\n",
            " [0.03225806]\n",
            " [0.57938016]\n",
            " [0.00445809]\n",
            " [0.        ]\n",
            " [0.17472434]\n",
            " [1.        ]\n",
            " [0.2826087 ]\n",
            " [0.03763577]\n",
            " [0.65384615]\n",
            " [0.07828004]\n",
            " [0.12718982]\n",
            " [0.07356322]]\n"
          ],
          "name": "stdout"
        }
      ]
    },
    {
      "cell_type": "code",
      "metadata": {
        "id": "uoCYLrWUpO_J",
        "colab_type": "code",
        "colab": {
          "base_uri": "https://localhost:8080/",
          "height": 34
        },
        "outputId": "906cce99-5fa7-45ea-e3e4-70999e079909"
      },
      "source": [
        "reconstructedX_rbmOne.shape"
      ],
      "execution_count": null,
      "outputs": [
        {
          "output_type": "execute_result",
          "data": {
            "text/plain": [
              "(4620, 14)"
            ]
          },
          "metadata": {
            "tags": []
          },
          "execution_count": 20
        }
      ]
    },
    {
      "cell_type": "markdown",
      "metadata": {
        "id": "JRfzg8BT8rjN",
        "colab_type": "text"
      },
      "source": [
        "### DBN"
      ]
    },
    {
      "cell_type": "code",
      "metadata": {
        "id": "QVmB9MxHnQIB",
        "colab_type": "code",
        "colab": {}
      },
      "source": [
        "class DBN(object):\n",
        "    def __init__(self, original_input_size, input_size, output_size, \n",
        "                 learning_rate, epochs, batchsize, rbmOne, rbmTwo, rbmThree):\n",
        "        # Define hyperparameters\n",
        "        self._original_input_size = original_input_size\n",
        "        self._input_size = input_size\n",
        "        self._output_size = output_size\n",
        "        self.learning_rate = learning_rate\n",
        "        self.epochs = epochs\n",
        "        self.batchsize = batchsize\n",
        "        self.rbmOne = rbmOne\n",
        "        self.rbmTwo = rbmTwo\n",
        "        self.rbmThree = rbmThree\n",
        "    \n",
        "        self.w = np.zeros([input_size, output_size], \"float\")\n",
        "        self.hb = np.zeros([output_size], \"float\")\n",
        "        self.vb = np.zeros([input_size], \"float\")\n",
        "    \n",
        "    def prob_h_given_v(self, visible, w, hb):\n",
        "        return tf.nn.sigmoid(tf.matmul(visible, w) + hb)\n",
        "\n",
        "    def prob_v_given_h(self, hidden, w, vb):\n",
        "        return tf.nn.sigmoid(tf.matmul(hidden, tf.transpose(w)) + vb)\n",
        "    \n",
        "    def sample_prob(self, probs):\n",
        "        return tf.nn.relu(tf.sign(probs - tf.random_uniform(tf.shape(probs))))\n",
        "\n",
        "    '''Each of the three RBMs we have trained already has its own weights matrix, \n",
        "    hidden bias vector, and visible bias vector. During the training of the fourth RBM as \n",
        "    part of the DBN, we will not adjust the weights matrix, hidden bias vector, and \n",
        "    visible bias vector of those first three RBMs. Rather, we will use the first three \n",
        "    RBMs as fixed components of the DBN. We will call upon the first three RBMs just to \n",
        "    do the forward and backward passes (and use samples of the data these three generate).\n",
        "\n",
        "    During the training of the fourth RBM in the DBN, we will only adjust weights and \n",
        "    biases of the fourth RBM. In other words, the fourth RBM in the DBN takes the output \n",
        "    of the first three RBMs as given and performs forward and backward passes to learn \n",
        "    a generative model that minimizes the reconstruction error between its generated \n",
        "    images and the original images'''\n",
        "    def train(self, X):\n",
        "        _w = tf.placeholder(\"float\", [self._input_size, self._output_size])\n",
        "        _hb = tf.placeholder(\"float\", [self._output_size])\n",
        "        _vb = tf.placeholder(\"float\", [self._input_size])\n",
        "        \n",
        "        prv_w = np.zeros([self._input_size, self._output_size], \"float\")\n",
        "        prv_hb = np.zeros([self._output_size], \"float\")\n",
        "        prv_vb = np.zeros([self._input_size], \"float\")\n",
        "        \n",
        "        cur_w = np.zeros([self._input_size, self._output_size], \"float\")\n",
        "        cur_hb = np.zeros([self._output_size], \"float\")\n",
        "        cur_vb = np.zeros([self._input_size], \"float\")\n",
        "        \n",
        "        v0 = tf.placeholder(\"float\", [None, self._original_input_size])\n",
        "\n",
        "        forwardOne = tf.nn.relu(tf.sign(tf.nn.sigmoid(tf.matmul(v0, self.rbmOne.w) + self.rbmOne.hb) - tf.random_uniform(tf.shape(tf.nn.sigmoid(tf.matmul(v0, self.rbmOne.w) + self.rbmOne.hb)))))\n",
        "        forwardTwo = tf.nn.relu(tf.sign(tf.nn.sigmoid(tf.matmul(forwardOne, self.rbmTwo.w) + self.rbmTwo.hb) - tf.random_uniform(tf.shape(tf.nn.sigmoid(tf.matmul(forwardOne, self.rbmTwo.w) + self.rbmTwo.hb)))))\n",
        "        forward = tf.nn.relu(tf.sign(tf.nn.sigmoid(tf.matmul(forwardTwo, self.rbmThree.w) + self.rbmThree.hb) - tf.random_uniform(tf.shape(tf.nn.sigmoid(tf.matmul( forwardTwo, self.rbmThree.w) + self.rbmThree.hb)))))\n",
        "        h0 = self.sample_prob(self.prob_h_given_v(forward, _w, _hb))\n",
        "        v1 = self.sample_prob(self.prob_v_given_h(h0, _w, _vb))\n",
        "        h1 = self.prob_h_given_v(v1, _w, _hb)\n",
        "        \n",
        "        positive_grad = tf.matmul(tf.transpose(forward), h0)\n",
        "        negative_grad = tf.matmul(tf.transpose(v1), h1)\n",
        "        \n",
        "        update_w = _w + self.learning_rate * (positive_grad - negative_grad) / tf.to_float(tf.shape(forward)[0])\n",
        "        update_vb = _vb +  self.learning_rate * tf.reduce_mean(forward - v1, 0)\n",
        "        update_hb = _hb +  self.learning_rate * tf.reduce_mean(h0 - h1, 0)\n",
        "        \n",
        "        backwardOne = tf.nn.relu(tf.sign(tf.nn.sigmoid(tf.matmul(v1, self.rbmThree.w.T) + self.rbmThree.vb) - tf.random_uniform(tf.shape(tf.nn.sigmoid(tf.matmul(v1, self.rbmThree.w.T) + self.rbmThree.vb)))))\n",
        "        backwardTwo = tf.nn.relu(tf.sign(tf.nn.sigmoid(tf.matmul(backwardOne, self.rbmTwo.w.T) + self.rbmTwo.vb) - tf.random_uniform(tf.shape(tf.nn.sigmoid(tf.matmul(backwardOne, self.rbmTwo.w.T) + self.rbmTwo.vb)))))\n",
        "        backward = tf.nn.relu(tf.sign(tf.nn.sigmoid(tf.matmul(backwardTwo, self.rbmOne.w.T) + self.rbmOne.vb) - tf.random_uniform(tf.shape(tf.nn.sigmoid(tf.matmul(backwardTwo, self.rbmOne.w.T) + self.rbmOne.vb)))))\n",
        "        \n",
        "        err = tf.reduce_mean(tf.square(v0 - backward))\n",
        "        error_list = []\n",
        "        \n",
        "        with tf.Session() as sess:\n",
        "            sess.run(tf.global_variables_initializer())\n",
        "\n",
        "            for epoch in range(self.epochs):\n",
        "                for start, end in zip(range(0, len(X), self.batchsize), range(self.batchsize,len(X), self.batchsize)):\n",
        "                    batch = X[start:end]\n",
        "                    cur_w = sess.run(update_w, feed_dict={v0: batch, _w: prv_w, _hb: prv_hb, _vb: prv_vb})\n",
        "                    cur_hb = sess.run(update_hb, feed_dict={v0: batch, _w:  prv_w, _hb: prv_hb, _vb: prv_vb})\n",
        "                    cur_vb = sess.run(update_vb, feed_dict={v0: batch, _w: prv_w, _hb: prv_hb, _vb: prv_vb})\n",
        "                    prv_w = cur_w\n",
        "                    prv_hb = cur_hb\n",
        "                    prv_vb = cur_vb\n",
        "                error = sess.run(err, feed_dict={v0: X, _w: cur_w, _vb: cur_vb, _hb: cur_hb})\n",
        "                print ('Epoch: %d' % (epoch+1),'reconstruction error: %f' % error)\n",
        "                error_list.append(error)\n",
        "            self.w = prv_w\n",
        "            self.hb = prv_hb\n",
        "            self.vb = prv_vb\n",
        "            return error_list\n",
        "        \n",
        "    def dbn_output(self, X):\n",
        "\n",
        "        input_X = tf.constant(X)\n",
        "        forwardOne = tf.nn.sigmoid(tf.matmul(input_X, self.rbmOne.w) + self.rbmOne.hb)\n",
        "        forwardTwo = tf.nn.sigmoid(tf.matmul(forwardOne, self.rbmTwo.w) + self.rbmTwo.hb)\n",
        "        forward = tf.nn.sigmoid(tf.matmul(forwardTwo, self.rbmThree.w) + self.rbmThree.hb)\n",
        "\n",
        "        _w = tf.constant(self.w)\n",
        "        _hb = tf.constant(self.hb)\n",
        "        _vb = tf.constant(self.vb)\n",
        "\n",
        "        out = tf.nn.sigmoid(tf.matmul(forward, _w) + _hb)\n",
        "        hiddenGen = self.sample_prob(self.prob_h_given_v(forward, _w, _hb))\n",
        "        visibleGen = self.sample_prob(self.prob_v_given_h(hiddenGen, _w, _vb))\n",
        "\n",
        "        backwardTwo = tf.nn.sigmoid(tf.matmul(visibleGen, self.rbmThree.w.T) + self.rbmThree.vb)\n",
        "        backwardOne = tf.nn.sigmoid(tf.matmul(backwardTwo, self.rbmTwo.w.T) + self.rbmTwo.vb)\n",
        "        backward = tf.nn.sigmoid(tf.matmul(backwardOne, self.rbmOne.w.T) + self.rbmOne.vb)\n",
        "\n",
        "        with tf.Session() as sess:\n",
        "            sess.run(tf.global_variables_initializer())\n",
        "            return sess.run(out), sess.run(backward)\n",
        "\n",
        "    def show_features(self, shape, suptitle, count=-1):\n",
        "        maxw = np.amax(self.w.T)\n",
        "        minw = np.amin(self.w.T)\n",
        "        count = self._output_size if count == -1 or count > self._output_size else count\n",
        "        ncols = count if count < 14 else 14 \n",
        "        nrows = count//ncols\n",
        "        nrows = nrows if nrows > 2 else 3\n",
        "        fig = plt.figure(figsize=(ncols, nrows), dpi=100)\n",
        "        grid = Grid(fig, rect=111, nrows_ncols=(nrows, ncols), axes_pad=0.01)\n",
        "\n",
        "        for i, ax in enumerate(grid):\n",
        "            x = self.w.T[i] if i<self._input_size else np.zeros(shape)\n",
        "            x = (x.reshape(1, -1) - minw)/maxw\n",
        "            ax.imshow(x.reshape(*shape), cmap=mpl.cm.Greys)\n",
        "            ax.set_axis_off()\n",
        "\n",
        "        fig.text(0.5,1, suptitle, fontsize=20, horizontalalignment='center')\n",
        "        fig.tight_layout()\n",
        "        plt.show()\n",
        "        return"
      ],
      "execution_count": null,
      "outputs": []
    },
    {
      "cell_type": "markdown",
      "metadata": {
        "id": "TVSsLaeh8x2h",
        "colab_type": "text"
      },
      "source": [
        "def __init__(self, original_input_size, input_size, output_size, \n",
        "                 learning_rate, epochs, batchsize, rbmOne, rbmTwo, rbmThree):"
      ]
    },
    {
      "cell_type": "code",
      "metadata": {
        "id": "gQCf1761nP6Z",
        "colab_type": "code",
        "colab": {}
      },
      "source": [
        "dbn = DBN(14, 12, 12, 0.02, 50, 100, rbm_list[0], rbm_list[1], rbm_list[2])"
      ],
      "execution_count": null,
      "outputs": []
    },
    {
      "cell_type": "code",
      "metadata": {
        "id": "WVXe1zJLnP39",
        "colab_type": "code",
        "colab": {
          "base_uri": "https://localhost:8080/",
          "height": 857
        },
        "outputId": "fb66c487-e957-42ce-c0f9-590fc366fb4a"
      },
      "source": [
        "inputX = np.array(inputX)\n",
        "error_list = []\n",
        "error_list = dbn.train(inputX)"
      ],
      "execution_count": null,
      "outputs": [
        {
          "output_type": "stream",
          "text": [
            "Epoch: 1 reconstruction error: 0.133390\n",
            "Epoch: 2 reconstruction error: 0.133506\n",
            "Epoch: 3 reconstruction error: 0.133857\n",
            "Epoch: 4 reconstruction error: 0.133670\n",
            "Epoch: 5 reconstruction error: 0.133016\n",
            "Epoch: 6 reconstruction error: 0.134164\n",
            "Epoch: 7 reconstruction error: 0.134729\n",
            "Epoch: 8 reconstruction error: 0.133281\n",
            "Epoch: 9 reconstruction error: 0.132892\n",
            "Epoch: 10 reconstruction error: 0.134146\n",
            "Epoch: 11 reconstruction error: 0.134501\n",
            "Epoch: 12 reconstruction error: 0.132174\n",
            "Epoch: 13 reconstruction error: 0.130029\n",
            "Epoch: 14 reconstruction error: 0.133361\n",
            "Epoch: 15 reconstruction error: 0.132113\n",
            "Epoch: 16 reconstruction error: 0.132682\n",
            "Epoch: 17 reconstruction error: 0.132792\n",
            "Epoch: 18 reconstruction error: 0.134617\n",
            "Epoch: 19 reconstruction error: 0.133331\n",
            "Epoch: 20 reconstruction error: 0.132751\n",
            "Epoch: 21 reconstruction error: 0.134368\n",
            "Epoch: 22 reconstruction error: 0.132014\n",
            "Epoch: 23 reconstruction error: 0.132406\n",
            "Epoch: 24 reconstruction error: 0.133188\n",
            "Epoch: 25 reconstruction error: 0.134752\n",
            "Epoch: 26 reconstruction error: 0.133945\n",
            "Epoch: 27 reconstruction error: 0.132006\n",
            "Epoch: 28 reconstruction error: 0.135570\n",
            "Epoch: 29 reconstruction error: 0.132365\n",
            "Epoch: 30 reconstruction error: 0.133253\n",
            "Epoch: 31 reconstruction error: 0.129837\n",
            "Epoch: 32 reconstruction error: 0.131861\n",
            "Epoch: 33 reconstruction error: 0.135640\n",
            "Epoch: 34 reconstruction error: 0.132773\n",
            "Epoch: 35 reconstruction error: 0.132708\n",
            "Epoch: 36 reconstruction error: 0.132624\n",
            "Epoch: 37 reconstruction error: 0.134030\n",
            "Epoch: 38 reconstruction error: 0.132982\n",
            "Epoch: 39 reconstruction error: 0.133524\n",
            "Epoch: 40 reconstruction error: 0.132624\n",
            "Epoch: 41 reconstruction error: 0.133134\n",
            "Epoch: 42 reconstruction error: 0.133950\n",
            "Epoch: 43 reconstruction error: 0.133366\n",
            "Epoch: 44 reconstruction error: 0.133641\n",
            "Epoch: 45 reconstruction error: 0.132256\n",
            "Epoch: 46 reconstruction error: 0.133023\n",
            "Epoch: 47 reconstruction error: 0.132287\n",
            "Epoch: 48 reconstruction error: 0.133961\n",
            "Epoch: 49 reconstruction error: 0.133710\n",
            "Epoch: 50 reconstruction error: 0.133773\n"
          ],
          "name": "stdout"
        }
      ]
    },
    {
      "cell_type": "code",
      "metadata": {
        "id": "u0hE1XR0nPum",
        "colab_type": "code",
        "colab": {
          "base_uri": "https://localhost:8080/",
          "height": 296
        },
        "outputId": "21ffe016-e9e1-4221-aae5-7cdbe8393776"
      },
      "source": [
        "print(\"DBN\")\n",
        "pd.Series(error_list).plot(logy=False)\n",
        "plt.xlabel(\"Epoch\")\n",
        "plt.ylabel(\"Reconstruction Error\")\n",
        "plt.show()"
      ],
      "execution_count": null,
      "outputs": [
        {
          "output_type": "stream",
          "text": [
            "DBN\n"
          ],
          "name": "stdout"
        },
        {
          "output_type": "display_data",
          "data": {
            "image/png": "[encoded data removed]",
            "text/plain": [
              "<Figure size 432x288 with 1 Axes>"
            ]
          },
          "metadata": {
            "tags": [],
            "needs_background": "light"
          }
        }
      ]
    },
    {
      "cell_type": "code",
      "metadata": {
        "id": "WrcGJYOY9Dm7",
        "colab_type": "code",
        "colab": {
          "base_uri": "https://localhost:8080/",
          "height": 218
        },
        "outputId": "ee3c3d82-320f-4994-9348-42ccc683069f"
      },
      "source": [
        "train_X.shape\n",
        "train_Y.head"
      ],
      "execution_count": null,
      "outputs": [
        {
          "output_type": "execute_result",
          "data": {
            "text/plain": [
              "<bound method NDFrame.head of 0       1\n",
              "1       1\n",
              "2       0\n",
              "3       0\n",
              "4       0\n",
              "       ..\n",
              "4615    1\n",
              "4616    1\n",
              "4617    0\n",
              "4618    0\n",
              "4619    0\n",
              "Name: bug, Length: 4620, dtype: int64>"
            ]
          },
          "metadata": {
            "tags": []
          },
          "execution_count": 25
        }
      ]
    },
    {
      "cell_type": "markdown",
      "metadata": {
        "id": "UKhyC3ZJVoQW",
        "colab_type": "text"
      },
      "source": [
        "TESTING\n",
        "\n"
      ]
    },
    {
      "cell_type": "code",
      "metadata": {
        "id": "2y99247TV6eq",
        "colab_type": "code",
        "colab": {
          "base_uri": "https://localhost:8080/",
          "height": 34
        },
        "outputId": "8c7b9a13-ed47-4677-8715-60cdb609b8a8"
      },
      "source": [
        "train_X.shape\n",
        "# train_Y.shape"
      ],
      "execution_count": null,
      "outputs": [
        {
          "output_type": "execute_result",
          "data": {
            "text/plain": [
              "(4620, 14)"
            ]
          },
          "metadata": {
            "tags": []
          },
          "execution_count": 26
        }
      ]
    },
    {
      "cell_type": "code",
      "metadata": {
        "id": "-yVBCHwkXw91",
        "colab_type": "code",
        "colab": {
          "base_uri": "https://localhost:8080/",
          "height": 34
        },
        "outputId": "8d126577-ca63-4a6a-8bab-3013973eb779"
      },
      "source": [
        "print('DBN 1')\n",
        "outputX_dbn, reconstructedX_dbn = dbn.dbn_output(inputX)"
      ],
      "execution_count": null,
      "outputs": [
        {
          "output_type": "stream",
          "text": [
            "DBN 1\n"
          ],
          "name": "stdout"
        }
      ]
    },
    {
      "cell_type": "markdown",
      "metadata": {
        "id": "geqQzlYJggJO",
        "colab_type": "text"
      },
      "source": [
        "###**Classifier**(Logistic)\n"
      ]
    },
    {
      "cell_type": "markdown",
      "metadata": {
        "id": "XnD1eSoctpxd",
        "colab_type": "text"
      },
      "source": [
        "Used reconstructedX as the Input for the Classifer"
      ]
    },
    {
      "cell_type": "code",
      "metadata": {
        "id": "LcUnoCvTgej0",
        "colab_type": "code",
        "colab": {
          "base_uri": "https://localhost:8080/",
          "height": 34
        },
        "outputId": "38749c00-2707-48a6-fc9f-0543bb1d5862"
      },
      "source": [
        "Y_Train = train_Y.iloc[:4000].values\n",
        "Y_Train.shape"
      ],
      "execution_count": null,
      "outputs": [
        {
          "output_type": "execute_result",
          "data": {
            "text/plain": [
              "(4000,)"
            ]
          },
          "metadata": {
            "tags": []
          },
          "execution_count": 28
        }
      ]
    },
    {
      "cell_type": "markdown",
      "metadata": {
        "id": "vwz4lT3G0CpZ",
        "colab_type": "text"
      },
      "source": [
        "Logistic Regression"
      ]
    },
    {
      "cell_type": "code",
      "metadata": {
        "id": "ej6X_Mw5zoYG",
        "colab_type": "code",
        "colab": {}
      },
      "source": [
        "def sigmoid(x):\n",
        "    return 1.0/(1.0 + np.exp(-x))\n",
        "\n",
        "def hypothesis(X, theta) :\n",
        "    \"\"\" \n",
        "    X-entire array(m,n+1)\n",
        "    n+1^ 1 dummy feature Xo\n",
        "\n",
        "    theta- np.array(n+1,1)\n",
        "    \"\"\"\n",
        "    return sigmoid(np.dot(X, theta))\n",
        "\n",
        "def error(X,y,theta):\n",
        "    \"\"\"\n",
        "    params:\n",
        "    X:(m,n+1)\n",
        "    y:(m,1)\n",
        "    theta:(n+1,1)\n",
        "\n",
        "    return:scale_value=loss\n",
        "    \"\"\"\n",
        "    hi = hypothesis(X,theta)\n",
        "    error= -1* np.mean ( y * np.log(hi) + ( ( 1 - y ) * (np.log( 1 - hi )) ) )\n",
        "\n",
        "    return error"
      ],
      "execution_count": null,
      "outputs": []
    },
    {
      "cell_type": "code",
      "metadata": {
        "id": "BwzVbQ4k0F74",
        "colab_type": "code",
        "colab": {}
      },
      "source": [
        "def gradient(X,y,theta):\n",
        "    \"\"\"\n",
        "    params:\n",
        "    X:(m,n+1)\n",
        "    y:(m,1)\n",
        "\n",
        "    theta:(n+1,1)\n",
        "     \n",
        "    return:gradient_vector: (n+1,1)\n",
        "    \"\"\"\n",
        "    hi = hypothesis(X,theta)\n",
        "\n",
        "    grad = np.dot(X.T,(y-hi))\n",
        "    m=X.shape[0]\n",
        "\n",
        "    return grad/m\n",
        "\n",
        "def gradient_descent(X,y,lr=0.02,max_itr=500):\n",
        "    \n",
        "    n=X.shape[1] \n",
        "    theta = np.zeros((n,1))\n",
        "    \n",
        "    error_list= []\n",
        "    \n",
        "    for i in range(max_itr):\n",
        "        err = error(X,y,theta)\n",
        "        error_list.append(err)\n",
        "\n",
        "        grad = gradient(X,y,theta)\n",
        "        #update theta\n",
        "        theta = theta + lr * grad\n",
        "    return (theta, error_list)"
      ],
      "execution_count": null,
      "outputs": []
    },
    {
      "cell_type": "code",
      "metadata": {
        "id": "wed-jco60HTJ",
        "colab_type": "code",
        "colab": {}
      },
      "source": [
        "ones = np.ones((outputX_dbn.shape[0],1))\n",
        "X_New_Train = np.hstack((ones,outputX_dbn))\n",
        "X_New_Train = X_New_Train[:4000,:]\n",
        "Y_Train= Y_Train.reshape((-1,1))"
      ],
      "execution_count": null,
      "outputs": []
    },
    {
      "cell_type": "code",
      "metadata": {
        "id": "9l-w-Wjt82II",
        "colab_type": "code",
        "colab": {
          "base_uri": "https://localhost:8080/",
          "height": 34
        },
        "outputId": "578c048a-92bc-4524-89a4-42c2320baf86"
      },
      "source": [
        "Y_Train.shape"
      ],
      "execution_count": null,
      "outputs": [
        {
          "output_type": "execute_result",
          "data": {
            "text/plain": [
              "(4000, 1)"
            ]
          },
          "metadata": {
            "tags": []
          },
          "execution_count": 33
        }
      ]
    },
    {
      "cell_type": "code",
      "metadata": {
        "id": "1XwlUmRp0RVg",
        "colab_type": "code",
        "colab": {}
      },
      "source": [
        "theta, error_list = gradient_descent(X_New_Train, Y_Train)"
      ],
      "execution_count": null,
      "outputs": []
    },
    {
      "cell_type": "code",
      "metadata": {
        "id": "B3U0Vuef2V0X",
        "colab_type": "code",
        "colab": {
          "base_uri": "https://localhost:8080/",
          "height": 282
        },
        "outputId": "9d0caa79-360a-4f2d-a733-ffcc2f0345f7"
      },
      "source": [
        "plt.plot(error_list)"
      ],
      "execution_count": null,
      "outputs": [
        {
          "output_type": "execute_result",
          "data": {
            "text/plain": [
              "[<matplotlib.lines.Line2D at 0x7f17695136a0>]"
            ]
          },
          "metadata": {
            "tags": []
          },
          "execution_count": 35
        },
        {
          "output_type": "display_data",
          "data": {
            "image/png": "[encoded data removed]",
            "text/plain": [
              "<Figure size 432x288 with 1 Axes>"
            ]
          },
          "metadata": {
            "tags": [],
            "needs_background": "light"
          }
        }
      ]
    },
    {
      "cell_type": "code",
      "metadata": {
        "id": "l5PAC2os78Mn",
        "colab_type": "code",
        "colab": {
          "base_uri": "https://localhost:8080/",
          "height": 34
        },
        "outputId": "3b774e7d-ceae-47d1-aabc-ac17f0680a0f"
      },
      "source": [
        "theta.shape"
      ],
      "execution_count": null,
      "outputs": [
        {
          "output_type": "execute_result",
          "data": {
            "text/plain": [
              "(13, 1)"
            ]
          },
          "metadata": {
            "tags": []
          },
          "execution_count": 36
        }
      ]
    },
    {
      "cell_type": "code",
      "metadata": {
        "id": "Xw1XDeSE0Sr5",
        "colab_type": "code",
        "colab": {}
      },
      "source": [
        "def predict(X,theta):\n",
        "    h = hypothesis(X, theta)\n",
        "    output = np.zeros(h.shape)\n",
        "    output[h>=0.5] = 1\n",
        "    output = output.astype('int')\n",
        "    return output\n",
        "\n",
        "XT_preds = predict(X_New_Train,theta)"
      ],
      "execution_count": null,
      "outputs": []
    },
    {
      "cell_type": "code",
      "metadata": {
        "id": "2AgIi_WA0TL1",
        "colab_type": "code",
        "colab": {}
      },
      "source": [
        "def accuracy(actual, preds):\n",
        "\n",
        "    actual = actual.astype('int')\n",
        "    actual = actual.reshape((-1,1))\n",
        "\n",
        "    acc= np.sum(actual==preds)/actual.shape[0]\n",
        "\n",
        "    return acc*100"
      ],
      "execution_count": null,
      "outputs": []
    },
    {
      "cell_type": "markdown",
      "metadata": {
        "id": "_MjGgOMwt1_Z",
        "colab_type": "text"
      },
      "source": [
        "Accuracy"
      ]
    },
    {
      "cell_type": "code",
      "metadata": {
        "id": "TE-YFxKY0UXt",
        "colab_type": "code",
        "colab": {
          "base_uri": "https://localhost:8080/",
          "height": 34
        },
        "outputId": "e6e7a621-3327-4640-bdb3-b7c1c192af01"
      },
      "source": [
        "train_acc= accuracy(Y_Train,XT_preds)\n",
        "print(train_acc)"
      ],
      "execution_count": 41,
      "outputs": [
        {
          "output_type": "stream",
          "text": [
            "62.324999999999996\n"
          ],
          "name": "stdout"
        }
      ]
    }
  ]
}